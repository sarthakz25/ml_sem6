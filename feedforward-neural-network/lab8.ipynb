{
  "nbformat": 4,
  "nbformat_minor": 0,
  "metadata": {
    "colab": {
      "provenance": []
    },
    "kernelspec": {
      "name": "python3",
      "display_name": "Python 3"
    },
    "language_info": {
      "name": "python"
    }
  },
  "cells": [
    {
      "cell_type": "markdown",
      "source": [
        "### **Task 1: Building a three-layer feed forward neural network from scratch by initializing random weights and biases.**"
      ],
      "metadata": {
        "id": "neHWU98Vnc-q"
      }
    },
    {
      "cell_type": "markdown",
      "source": [
        "### Imports"
      ],
      "metadata": {
        "id": "8FgLmQClv79W"
      }
    },
    {
      "cell_type": "code",
      "execution_count": null,
      "metadata": {
        "id": "gX9YlHrRnRR0"
      },
      "outputs": [],
      "source": [
        "import pandas as pd\n",
        "import numpy as np\n",
        "import matplotlib.pyplot as plt\n",
        "from sklearn.preprocessing import StandardScaler"
      ]
    },
    {
      "cell_type": "code",
      "source": [
        "data = pd.read_csv(\"iris.csv\")"
      ],
      "metadata": {
        "id": "0jsHLoQrtznk"
      },
      "execution_count": null,
      "outputs": []
    },
    {
      "cell_type": "code",
      "source": [
        "data.head()"
      ],
      "metadata": {
        "colab": {
          "base_uri": "https://localhost:8080/",
          "height": 206
        },
        "id": "KGSTal7XuTBe",
        "outputId": "942aeb72-66a3-4b7e-9bd8-fa470c9811df"
      },
      "execution_count": null,
      "outputs": [
        {
          "output_type": "execute_result",
          "data": {
            "text/plain": [
              "   Id  SepalLengthCm  SepalWidthCm  PetalLengthCm  PetalWidthCm      Species\n",
              "0   1            5.1           3.5            1.4           0.2  Iris-setosa\n",
              "1   2            4.9           3.0            1.4           0.2  Iris-setosa\n",
              "2   3            4.7           3.2            1.3           0.2  Iris-setosa\n",
              "3   4            4.6           3.1            1.5           0.2  Iris-setosa\n",
              "4   5            5.0           3.6            1.4           0.2  Iris-setosa"
            ],
            "text/html": [
              "\n",
              "  <div id=\"df-37e4f72a-bf41-424b-a81c-8dd632078df9\" class=\"colab-df-container\">\n",
              "    <div>\n",
              "<style scoped>\n",
              "    .dataframe tbody tr th:only-of-type {\n",
              "        vertical-align: middle;\n",
              "    }\n",
              "\n",
              "    .dataframe tbody tr th {\n",
              "        vertical-align: top;\n",
              "    }\n",
              "\n",
              "    .dataframe thead th {\n",
              "        text-align: right;\n",
              "    }\n",
              "</style>\n",
              "<table border=\"1\" class=\"dataframe\">\n",
              "  <thead>\n",
              "    <tr style=\"text-align: right;\">\n",
              "      <th></th>\n",
              "      <th>Id</th>\n",
              "      <th>SepalLengthCm</th>\n",
              "      <th>SepalWidthCm</th>\n",
              "      <th>PetalLengthCm</th>\n",
              "      <th>PetalWidthCm</th>\n",
              "      <th>Species</th>\n",
              "    </tr>\n",
              "  </thead>\n",
              "  <tbody>\n",
              "    <tr>\n",
              "      <th>0</th>\n",
              "      <td>1</td>\n",
              "      <td>5.1</td>\n",
              "      <td>3.5</td>\n",
              "      <td>1.4</td>\n",
              "      <td>0.2</td>\n",
              "      <td>Iris-setosa</td>\n",
              "    </tr>\n",
              "    <tr>\n",
              "      <th>1</th>\n",
              "      <td>2</td>\n",
              "      <td>4.9</td>\n",
              "      <td>3.0</td>\n",
              "      <td>1.4</td>\n",
              "      <td>0.2</td>\n",
              "      <td>Iris-setosa</td>\n",
              "    </tr>\n",
              "    <tr>\n",
              "      <th>2</th>\n",
              "      <td>3</td>\n",
              "      <td>4.7</td>\n",
              "      <td>3.2</td>\n",
              "      <td>1.3</td>\n",
              "      <td>0.2</td>\n",
              "      <td>Iris-setosa</td>\n",
              "    </tr>\n",
              "    <tr>\n",
              "      <th>3</th>\n",
              "      <td>4</td>\n",
              "      <td>4.6</td>\n",
              "      <td>3.1</td>\n",
              "      <td>1.5</td>\n",
              "      <td>0.2</td>\n",
              "      <td>Iris-setosa</td>\n",
              "    </tr>\n",
              "    <tr>\n",
              "      <th>4</th>\n",
              "      <td>5</td>\n",
              "      <td>5.0</td>\n",
              "      <td>3.6</td>\n",
              "      <td>1.4</td>\n",
              "      <td>0.2</td>\n",
              "      <td>Iris-setosa</td>\n",
              "    </tr>\n",
              "  </tbody>\n",
              "</table>\n",
              "</div>\n",
              "    <div class=\"colab-df-buttons\">\n",
              "\n",
              "  <div class=\"colab-df-container\">\n",
              "    <button class=\"colab-df-convert\" onclick=\"convertToInteractive('df-37e4f72a-bf41-424b-a81c-8dd632078df9')\"\n",
              "            title=\"Convert this dataframe to an interactive table.\"\n",
              "            style=\"display:none;\">\n",
              "\n",
              "  <svg xmlns=\"http://www.w3.org/2000/svg\" height=\"24px\" viewBox=\"0 -960 960 960\">\n",
              "    <path d=\"M120-120v-720h720v720H120Zm60-500h600v-160H180v160Zm220 220h160v-160H400v160Zm0 220h160v-160H400v160ZM180-400h160v-160H180v160Zm440 0h160v-160H620v160ZM180-180h160v-160H180v160Zm440 0h160v-160H620v160Z\"/>\n",
              "  </svg>\n",
              "    </button>\n",
              "\n",
              "  <style>\n",
              "    .colab-df-container {\n",
              "      display:flex;\n",
              "      gap: 12px;\n",
              "    }\n",
              "\n",
              "    .colab-df-convert {\n",
              "      background-color: #E8F0FE;\n",
              "      border: none;\n",
              "      border-radius: 50%;\n",
              "      cursor: pointer;\n",
              "      display: none;\n",
              "      fill: #1967D2;\n",
              "      height: 32px;\n",
              "      padding: 0 0 0 0;\n",
              "      width: 32px;\n",
              "    }\n",
              "\n",
              "    .colab-df-convert:hover {\n",
              "      background-color: #E2EBFA;\n",
              "      box-shadow: 0px 1px 2px rgba(60, 64, 67, 0.3), 0px 1px 3px 1px rgba(60, 64, 67, 0.15);\n",
              "      fill: #174EA6;\n",
              "    }\n",
              "\n",
              "    .colab-df-buttons div {\n",
              "      margin-bottom: 4px;\n",
              "    }\n",
              "\n",
              "    [theme=dark] .colab-df-convert {\n",
              "      background-color: #3B4455;\n",
              "      fill: #D2E3FC;\n",
              "    }\n",
              "\n",
              "    [theme=dark] .colab-df-convert:hover {\n",
              "      background-color: #434B5C;\n",
              "      box-shadow: 0px 1px 3px 1px rgba(0, 0, 0, 0.15);\n",
              "      filter: drop-shadow(0px 1px 2px rgba(0, 0, 0, 0.3));\n",
              "      fill: #FFFFFF;\n",
              "    }\n",
              "  </style>\n",
              "\n",
              "    <script>\n",
              "      const buttonEl =\n",
              "        document.querySelector('#df-37e4f72a-bf41-424b-a81c-8dd632078df9 button.colab-df-convert');\n",
              "      buttonEl.style.display =\n",
              "        google.colab.kernel.accessAllowed ? 'block' : 'none';\n",
              "\n",
              "      async function convertToInteractive(key) {\n",
              "        const element = document.querySelector('#df-37e4f72a-bf41-424b-a81c-8dd632078df9');\n",
              "        const dataTable =\n",
              "          await google.colab.kernel.invokeFunction('convertToInteractive',\n",
              "                                                    [key], {});\n",
              "        if (!dataTable) return;\n",
              "\n",
              "        const docLinkHtml = 'Like what you see? Visit the ' +\n",
              "          '<a target=\"_blank\" href=https://colab.research.google.com/notebooks/data_table.ipynb>data table notebook</a>'\n",
              "          + ' to learn more about interactive tables.';\n",
              "        element.innerHTML = '';\n",
              "        dataTable['output_type'] = 'display_data';\n",
              "        await google.colab.output.renderOutput(dataTable, element);\n",
              "        const docLink = document.createElement('div');\n",
              "        docLink.innerHTML = docLinkHtml;\n",
              "        element.appendChild(docLink);\n",
              "      }\n",
              "    </script>\n",
              "  </div>\n",
              "\n",
              "\n",
              "<div id=\"df-fffc061d-f153-43c6-a973-4eb2016e051f\">\n",
              "  <button class=\"colab-df-quickchart\" onclick=\"quickchart('df-fffc061d-f153-43c6-a973-4eb2016e051f')\"\n",
              "            title=\"Suggest charts\"\n",
              "            style=\"display:none;\">\n",
              "\n",
              "<svg xmlns=\"http://www.w3.org/2000/svg\" height=\"24px\"viewBox=\"0 0 24 24\"\n",
              "     width=\"24px\">\n",
              "    <g>\n",
              "        <path d=\"M19 3H5c-1.1 0-2 .9-2 2v14c0 1.1.9 2 2 2h14c1.1 0 2-.9 2-2V5c0-1.1-.9-2-2-2zM9 17H7v-7h2v7zm4 0h-2V7h2v10zm4 0h-2v-4h2v4z\"/>\n",
              "    </g>\n",
              "</svg>\n",
              "  </button>\n",
              "\n",
              "<style>\n",
              "  .colab-df-quickchart {\n",
              "      --bg-color: #E8F0FE;\n",
              "      --fill-color: #1967D2;\n",
              "      --hover-bg-color: #E2EBFA;\n",
              "      --hover-fill-color: #174EA6;\n",
              "      --disabled-fill-color: #AAA;\n",
              "      --disabled-bg-color: #DDD;\n",
              "  }\n",
              "\n",
              "  [theme=dark] .colab-df-quickchart {\n",
              "      --bg-color: #3B4455;\n",
              "      --fill-color: #D2E3FC;\n",
              "      --hover-bg-color: #434B5C;\n",
              "      --hover-fill-color: #FFFFFF;\n",
              "      --disabled-bg-color: #3B4455;\n",
              "      --disabled-fill-color: #666;\n",
              "  }\n",
              "\n",
              "  .colab-df-quickchart {\n",
              "    background-color: var(--bg-color);\n",
              "    border: none;\n",
              "    border-radius: 50%;\n",
              "    cursor: pointer;\n",
              "    display: none;\n",
              "    fill: var(--fill-color);\n",
              "    height: 32px;\n",
              "    padding: 0;\n",
              "    width: 32px;\n",
              "  }\n",
              "\n",
              "  .colab-df-quickchart:hover {\n",
              "    background-color: var(--hover-bg-color);\n",
              "    box-shadow: 0 1px 2px rgba(60, 64, 67, 0.3), 0 1px 3px 1px rgba(60, 64, 67, 0.15);\n",
              "    fill: var(--button-hover-fill-color);\n",
              "  }\n",
              "\n",
              "  .colab-df-quickchart-complete:disabled,\n",
              "  .colab-df-quickchart-complete:disabled:hover {\n",
              "    background-color: var(--disabled-bg-color);\n",
              "    fill: var(--disabled-fill-color);\n",
              "    box-shadow: none;\n",
              "  }\n",
              "\n",
              "  .colab-df-spinner {\n",
              "    border: 2px solid var(--fill-color);\n",
              "    border-color: transparent;\n",
              "    border-bottom-color: var(--fill-color);\n",
              "    animation:\n",
              "      spin 1s steps(1) infinite;\n",
              "  }\n",
              "\n",
              "  @keyframes spin {\n",
              "    0% {\n",
              "      border-color: transparent;\n",
              "      border-bottom-color: var(--fill-color);\n",
              "      border-left-color: var(--fill-color);\n",
              "    }\n",
              "    20% {\n",
              "      border-color: transparent;\n",
              "      border-left-color: var(--fill-color);\n",
              "      border-top-color: var(--fill-color);\n",
              "    }\n",
              "    30% {\n",
              "      border-color: transparent;\n",
              "      border-left-color: var(--fill-color);\n",
              "      border-top-color: var(--fill-color);\n",
              "      border-right-color: var(--fill-color);\n",
              "    }\n",
              "    40% {\n",
              "      border-color: transparent;\n",
              "      border-right-color: var(--fill-color);\n",
              "      border-top-color: var(--fill-color);\n",
              "    }\n",
              "    60% {\n",
              "      border-color: transparent;\n",
              "      border-right-color: var(--fill-color);\n",
              "    }\n",
              "    80% {\n",
              "      border-color: transparent;\n",
              "      border-right-color: var(--fill-color);\n",
              "      border-bottom-color: var(--fill-color);\n",
              "    }\n",
              "    90% {\n",
              "      border-color: transparent;\n",
              "      border-bottom-color: var(--fill-color);\n",
              "    }\n",
              "  }\n",
              "</style>\n",
              "\n",
              "  <script>\n",
              "    async function quickchart(key) {\n",
              "      const quickchartButtonEl =\n",
              "        document.querySelector('#' + key + ' button');\n",
              "      quickchartButtonEl.disabled = true;  // To prevent multiple clicks.\n",
              "      quickchartButtonEl.classList.add('colab-df-spinner');\n",
              "      try {\n",
              "        const charts = await google.colab.kernel.invokeFunction(\n",
              "            'suggestCharts', [key], {});\n",
              "      } catch (error) {\n",
              "        console.error('Error during call to suggestCharts:', error);\n",
              "      }\n",
              "      quickchartButtonEl.classList.remove('colab-df-spinner');\n",
              "      quickchartButtonEl.classList.add('colab-df-quickchart-complete');\n",
              "    }\n",
              "    (() => {\n",
              "      let quickchartButtonEl =\n",
              "        document.querySelector('#df-fffc061d-f153-43c6-a973-4eb2016e051f button');\n",
              "      quickchartButtonEl.style.display =\n",
              "        google.colab.kernel.accessAllowed ? 'block' : 'none';\n",
              "    })();\n",
              "  </script>\n",
              "</div>\n",
              "\n",
              "    </div>\n",
              "  </div>\n"
            ],
            "application/vnd.google.colaboratory.intrinsic+json": {
              "type": "dataframe",
              "variable_name": "data",
              "summary": "{\n  \"name\": \"data\",\n  \"rows\": 150,\n  \"fields\": [\n    {\n      \"column\": \"Id\",\n      \"properties\": {\n        \"dtype\": \"number\",\n        \"std\": 43,\n        \"min\": 1,\n        \"max\": 150,\n        \"num_unique_values\": 150,\n        \"samples\": [\n          74,\n          19,\n          119\n        ],\n        \"semantic_type\": \"\",\n        \"description\": \"\"\n      }\n    },\n    {\n      \"column\": \"SepalLengthCm\",\n      \"properties\": {\n        \"dtype\": \"number\",\n        \"std\": 0.828066127977863,\n        \"min\": 4.3,\n        \"max\": 7.9,\n        \"num_unique_values\": 35,\n        \"samples\": [\n          6.2,\n          4.5,\n          5.6\n        ],\n        \"semantic_type\": \"\",\n        \"description\": \"\"\n      }\n    },\n    {\n      \"column\": \"SepalWidthCm\",\n      \"properties\": {\n        \"dtype\": \"number\",\n        \"std\": 0.4335943113621737,\n        \"min\": 2.0,\n        \"max\": 4.4,\n        \"num_unique_values\": 23,\n        \"samples\": [\n          2.3,\n          4.0,\n          3.5\n        ],\n        \"semantic_type\": \"\",\n        \"description\": \"\"\n      }\n    },\n    {\n      \"column\": \"PetalLengthCm\",\n      \"properties\": {\n        \"dtype\": \"number\",\n        \"std\": 1.7644204199522626,\n        \"min\": 1.0,\n        \"max\": 6.9,\n        \"num_unique_values\": 43,\n        \"samples\": [\n          6.7,\n          3.8,\n          3.7\n        ],\n        \"semantic_type\": \"\",\n        \"description\": \"\"\n      }\n    },\n    {\n      \"column\": \"PetalWidthCm\",\n      \"properties\": {\n        \"dtype\": \"number\",\n        \"std\": 0.7631607417008411,\n        \"min\": 0.1,\n        \"max\": 2.5,\n        \"num_unique_values\": 22,\n        \"samples\": [\n          0.2,\n          1.2,\n          1.3\n        ],\n        \"semantic_type\": \"\",\n        \"description\": \"\"\n      }\n    },\n    {\n      \"column\": \"Species\",\n      \"properties\": {\n        \"dtype\": \"category\",\n        \"num_unique_values\": 3,\n        \"samples\": [\n          \"Iris-setosa\",\n          \"Iris-versicolor\",\n          \"Iris-virginica\"\n        ],\n        \"semantic_type\": \"\",\n        \"description\": \"\"\n      }\n    }\n  ]\n}"
            }
          },
          "metadata": {},
          "execution_count": 348
        }
      ]
    },
    {
      "cell_type": "code",
      "source": [
        "data.shape"
      ],
      "metadata": {
        "colab": {
          "base_uri": "https://localhost:8080/"
        },
        "id": "w1gfRS0iu7CN",
        "outputId": "9add4f56-7a0b-4ff8-a7b3-88e0a9ee2076"
      },
      "execution_count": null,
      "outputs": [
        {
          "output_type": "execute_result",
          "data": {
            "text/plain": [
              "(150, 6)"
            ]
          },
          "metadata": {},
          "execution_count": 349
        }
      ]
    },
    {
      "cell_type": "code",
      "source": [
        "data.info()"
      ],
      "metadata": {
        "colab": {
          "base_uri": "https://localhost:8080/"
        },
        "id": "Z_Ai2AsGvFxy",
        "outputId": "723c8903-6182-4526-8d55-747ba359b537"
      },
      "execution_count": null,
      "outputs": [
        {
          "output_type": "stream",
          "name": "stdout",
          "text": [
            "<class 'pandas.core.frame.DataFrame'>\n",
            "RangeIndex: 150 entries, 0 to 149\n",
            "Data columns (total 6 columns):\n",
            " #   Column         Non-Null Count  Dtype  \n",
            "---  ------         --------------  -----  \n",
            " 0   Id             150 non-null    int64  \n",
            " 1   SepalLengthCm  150 non-null    float64\n",
            " 2   SepalWidthCm   150 non-null    float64\n",
            " 3   PetalLengthCm  150 non-null    float64\n",
            " 4   PetalWidthCm   150 non-null    float64\n",
            " 5   Species        150 non-null    object \n",
            "dtypes: float64(4), int64(1), object(1)\n",
            "memory usage: 7.2+ KB\n"
          ]
        }
      ]
    },
    {
      "cell_type": "code",
      "source": [
        "data.describe()"
      ],
      "metadata": {
        "colab": {
          "base_uri": "https://localhost:8080/",
          "height": 300
        },
        "id": "xnFDLRiWu-X9",
        "outputId": "b26331c1-0cae-46ac-c63b-1854111b85c7"
      },
      "execution_count": null,
      "outputs": [
        {
          "output_type": "execute_result",
          "data": {
            "text/plain": [
              "               Id  SepalLengthCm  SepalWidthCm  PetalLengthCm  PetalWidthCm\n",
              "count  150.000000     150.000000    150.000000     150.000000    150.000000\n",
              "mean    75.500000       5.843333      3.054000       3.758667      1.198667\n",
              "std     43.445368       0.828066      0.433594       1.764420      0.763161\n",
              "min      1.000000       4.300000      2.000000       1.000000      0.100000\n",
              "25%     38.250000       5.100000      2.800000       1.600000      0.300000\n",
              "50%     75.500000       5.800000      3.000000       4.350000      1.300000\n",
              "75%    112.750000       6.400000      3.300000       5.100000      1.800000\n",
              "max    150.000000       7.900000      4.400000       6.900000      2.500000"
            ],
            "text/html": [
              "\n",
              "  <div id=\"df-08653421-eadc-404e-9015-52d181a9937c\" class=\"colab-df-container\">\n",
              "    <div>\n",
              "<style scoped>\n",
              "    .dataframe tbody tr th:only-of-type {\n",
              "        vertical-align: middle;\n",
              "    }\n",
              "\n",
              "    .dataframe tbody tr th {\n",
              "        vertical-align: top;\n",
              "    }\n",
              "\n",
              "    .dataframe thead th {\n",
              "        text-align: right;\n",
              "    }\n",
              "</style>\n",
              "<table border=\"1\" class=\"dataframe\">\n",
              "  <thead>\n",
              "    <tr style=\"text-align: right;\">\n",
              "      <th></th>\n",
              "      <th>Id</th>\n",
              "      <th>SepalLengthCm</th>\n",
              "      <th>SepalWidthCm</th>\n",
              "      <th>PetalLengthCm</th>\n",
              "      <th>PetalWidthCm</th>\n",
              "    </tr>\n",
              "  </thead>\n",
              "  <tbody>\n",
              "    <tr>\n",
              "      <th>count</th>\n",
              "      <td>150.000000</td>\n",
              "      <td>150.000000</td>\n",
              "      <td>150.000000</td>\n",
              "      <td>150.000000</td>\n",
              "      <td>150.000000</td>\n",
              "    </tr>\n",
              "    <tr>\n",
              "      <th>mean</th>\n",
              "      <td>75.500000</td>\n",
              "      <td>5.843333</td>\n",
              "      <td>3.054000</td>\n",
              "      <td>3.758667</td>\n",
              "      <td>1.198667</td>\n",
              "    </tr>\n",
              "    <tr>\n",
              "      <th>std</th>\n",
              "      <td>43.445368</td>\n",
              "      <td>0.828066</td>\n",
              "      <td>0.433594</td>\n",
              "      <td>1.764420</td>\n",
              "      <td>0.763161</td>\n",
              "    </tr>\n",
              "    <tr>\n",
              "      <th>min</th>\n",
              "      <td>1.000000</td>\n",
              "      <td>4.300000</td>\n",
              "      <td>2.000000</td>\n",
              "      <td>1.000000</td>\n",
              "      <td>0.100000</td>\n",
              "    </tr>\n",
              "    <tr>\n",
              "      <th>25%</th>\n",
              "      <td>38.250000</td>\n",
              "      <td>5.100000</td>\n",
              "      <td>2.800000</td>\n",
              "      <td>1.600000</td>\n",
              "      <td>0.300000</td>\n",
              "    </tr>\n",
              "    <tr>\n",
              "      <th>50%</th>\n",
              "      <td>75.500000</td>\n",
              "      <td>5.800000</td>\n",
              "      <td>3.000000</td>\n",
              "      <td>4.350000</td>\n",
              "      <td>1.300000</td>\n",
              "    </tr>\n",
              "    <tr>\n",
              "      <th>75%</th>\n",
              "      <td>112.750000</td>\n",
              "      <td>6.400000</td>\n",
              "      <td>3.300000</td>\n",
              "      <td>5.100000</td>\n",
              "      <td>1.800000</td>\n",
              "    </tr>\n",
              "    <tr>\n",
              "      <th>max</th>\n",
              "      <td>150.000000</td>\n",
              "      <td>7.900000</td>\n",
              "      <td>4.400000</td>\n",
              "      <td>6.900000</td>\n",
              "      <td>2.500000</td>\n",
              "    </tr>\n",
              "  </tbody>\n",
              "</table>\n",
              "</div>\n",
              "    <div class=\"colab-df-buttons\">\n",
              "\n",
              "  <div class=\"colab-df-container\">\n",
              "    <button class=\"colab-df-convert\" onclick=\"convertToInteractive('df-08653421-eadc-404e-9015-52d181a9937c')\"\n",
              "            title=\"Convert this dataframe to an interactive table.\"\n",
              "            style=\"display:none;\">\n",
              "\n",
              "  <svg xmlns=\"http://www.w3.org/2000/svg\" height=\"24px\" viewBox=\"0 -960 960 960\">\n",
              "    <path d=\"M120-120v-720h720v720H120Zm60-500h600v-160H180v160Zm220 220h160v-160H400v160Zm0 220h160v-160H400v160ZM180-400h160v-160H180v160Zm440 0h160v-160H620v160ZM180-180h160v-160H180v160Zm440 0h160v-160H620v160Z\"/>\n",
              "  </svg>\n",
              "    </button>\n",
              "\n",
              "  <style>\n",
              "    .colab-df-container {\n",
              "      display:flex;\n",
              "      gap: 12px;\n",
              "    }\n",
              "\n",
              "    .colab-df-convert {\n",
              "      background-color: #E8F0FE;\n",
              "      border: none;\n",
              "      border-radius: 50%;\n",
              "      cursor: pointer;\n",
              "      display: none;\n",
              "      fill: #1967D2;\n",
              "      height: 32px;\n",
              "      padding: 0 0 0 0;\n",
              "      width: 32px;\n",
              "    }\n",
              "\n",
              "    .colab-df-convert:hover {\n",
              "      background-color: #E2EBFA;\n",
              "      box-shadow: 0px 1px 2px rgba(60, 64, 67, 0.3), 0px 1px 3px 1px rgba(60, 64, 67, 0.15);\n",
              "      fill: #174EA6;\n",
              "    }\n",
              "\n",
              "    .colab-df-buttons div {\n",
              "      margin-bottom: 4px;\n",
              "    }\n",
              "\n",
              "    [theme=dark] .colab-df-convert {\n",
              "      background-color: #3B4455;\n",
              "      fill: #D2E3FC;\n",
              "    }\n",
              "\n",
              "    [theme=dark] .colab-df-convert:hover {\n",
              "      background-color: #434B5C;\n",
              "      box-shadow: 0px 1px 3px 1px rgba(0, 0, 0, 0.15);\n",
              "      filter: drop-shadow(0px 1px 2px rgba(0, 0, 0, 0.3));\n",
              "      fill: #FFFFFF;\n",
              "    }\n",
              "  </style>\n",
              "\n",
              "    <script>\n",
              "      const buttonEl =\n",
              "        document.querySelector('#df-08653421-eadc-404e-9015-52d181a9937c button.colab-df-convert');\n",
              "      buttonEl.style.display =\n",
              "        google.colab.kernel.accessAllowed ? 'block' : 'none';\n",
              "\n",
              "      async function convertToInteractive(key) {\n",
              "        const element = document.querySelector('#df-08653421-eadc-404e-9015-52d181a9937c');\n",
              "        const dataTable =\n",
              "          await google.colab.kernel.invokeFunction('convertToInteractive',\n",
              "                                                    [key], {});\n",
              "        if (!dataTable) return;\n",
              "\n",
              "        const docLinkHtml = 'Like what you see? Visit the ' +\n",
              "          '<a target=\"_blank\" href=https://colab.research.google.com/notebooks/data_table.ipynb>data table notebook</a>'\n",
              "          + ' to learn more about interactive tables.';\n",
              "        element.innerHTML = '';\n",
              "        dataTable['output_type'] = 'display_data';\n",
              "        await google.colab.output.renderOutput(dataTable, element);\n",
              "        const docLink = document.createElement('div');\n",
              "        docLink.innerHTML = docLinkHtml;\n",
              "        element.appendChild(docLink);\n",
              "      }\n",
              "    </script>\n",
              "  </div>\n",
              "\n",
              "\n",
              "<div id=\"df-43183c2a-9004-484b-b7ac-50a5198bcc91\">\n",
              "  <button class=\"colab-df-quickchart\" onclick=\"quickchart('df-43183c2a-9004-484b-b7ac-50a5198bcc91')\"\n",
              "            title=\"Suggest charts\"\n",
              "            style=\"display:none;\">\n",
              "\n",
              "<svg xmlns=\"http://www.w3.org/2000/svg\" height=\"24px\"viewBox=\"0 0 24 24\"\n",
              "     width=\"24px\">\n",
              "    <g>\n",
              "        <path d=\"M19 3H5c-1.1 0-2 .9-2 2v14c0 1.1.9 2 2 2h14c1.1 0 2-.9 2-2V5c0-1.1-.9-2-2-2zM9 17H7v-7h2v7zm4 0h-2V7h2v10zm4 0h-2v-4h2v4z\"/>\n",
              "    </g>\n",
              "</svg>\n",
              "  </button>\n",
              "\n",
              "<style>\n",
              "  .colab-df-quickchart {\n",
              "      --bg-color: #E8F0FE;\n",
              "      --fill-color: #1967D2;\n",
              "      --hover-bg-color: #E2EBFA;\n",
              "      --hover-fill-color: #174EA6;\n",
              "      --disabled-fill-color: #AAA;\n",
              "      --disabled-bg-color: #DDD;\n",
              "  }\n",
              "\n",
              "  [theme=dark] .colab-df-quickchart {\n",
              "      --bg-color: #3B4455;\n",
              "      --fill-color: #D2E3FC;\n",
              "      --hover-bg-color: #434B5C;\n",
              "      --hover-fill-color: #FFFFFF;\n",
              "      --disabled-bg-color: #3B4455;\n",
              "      --disabled-fill-color: #666;\n",
              "  }\n",
              "\n",
              "  .colab-df-quickchart {\n",
              "    background-color: var(--bg-color);\n",
              "    border: none;\n",
              "    border-radius: 50%;\n",
              "    cursor: pointer;\n",
              "    display: none;\n",
              "    fill: var(--fill-color);\n",
              "    height: 32px;\n",
              "    padding: 0;\n",
              "    width: 32px;\n",
              "  }\n",
              "\n",
              "  .colab-df-quickchart:hover {\n",
              "    background-color: var(--hover-bg-color);\n",
              "    box-shadow: 0 1px 2px rgba(60, 64, 67, 0.3), 0 1px 3px 1px rgba(60, 64, 67, 0.15);\n",
              "    fill: var(--button-hover-fill-color);\n",
              "  }\n",
              "\n",
              "  .colab-df-quickchart-complete:disabled,\n",
              "  .colab-df-quickchart-complete:disabled:hover {\n",
              "    background-color: var(--disabled-bg-color);\n",
              "    fill: var(--disabled-fill-color);\n",
              "    box-shadow: none;\n",
              "  }\n",
              "\n",
              "  .colab-df-spinner {\n",
              "    border: 2px solid var(--fill-color);\n",
              "    border-color: transparent;\n",
              "    border-bottom-color: var(--fill-color);\n",
              "    animation:\n",
              "      spin 1s steps(1) infinite;\n",
              "  }\n",
              "\n",
              "  @keyframes spin {\n",
              "    0% {\n",
              "      border-color: transparent;\n",
              "      border-bottom-color: var(--fill-color);\n",
              "      border-left-color: var(--fill-color);\n",
              "    }\n",
              "    20% {\n",
              "      border-color: transparent;\n",
              "      border-left-color: var(--fill-color);\n",
              "      border-top-color: var(--fill-color);\n",
              "    }\n",
              "    30% {\n",
              "      border-color: transparent;\n",
              "      border-left-color: var(--fill-color);\n",
              "      border-top-color: var(--fill-color);\n",
              "      border-right-color: var(--fill-color);\n",
              "    }\n",
              "    40% {\n",
              "      border-color: transparent;\n",
              "      border-right-color: var(--fill-color);\n",
              "      border-top-color: var(--fill-color);\n",
              "    }\n",
              "    60% {\n",
              "      border-color: transparent;\n",
              "      border-right-color: var(--fill-color);\n",
              "    }\n",
              "    80% {\n",
              "      border-color: transparent;\n",
              "      border-right-color: var(--fill-color);\n",
              "      border-bottom-color: var(--fill-color);\n",
              "    }\n",
              "    90% {\n",
              "      border-color: transparent;\n",
              "      border-bottom-color: var(--fill-color);\n",
              "    }\n",
              "  }\n",
              "</style>\n",
              "\n",
              "  <script>\n",
              "    async function quickchart(key) {\n",
              "      const quickchartButtonEl =\n",
              "        document.querySelector('#' + key + ' button');\n",
              "      quickchartButtonEl.disabled = true;  // To prevent multiple clicks.\n",
              "      quickchartButtonEl.classList.add('colab-df-spinner');\n",
              "      try {\n",
              "        const charts = await google.colab.kernel.invokeFunction(\n",
              "            'suggestCharts', [key], {});\n",
              "      } catch (error) {\n",
              "        console.error('Error during call to suggestCharts:', error);\n",
              "      }\n",
              "      quickchartButtonEl.classList.remove('colab-df-spinner');\n",
              "      quickchartButtonEl.classList.add('colab-df-quickchart-complete');\n",
              "    }\n",
              "    (() => {\n",
              "      let quickchartButtonEl =\n",
              "        document.querySelector('#df-43183c2a-9004-484b-b7ac-50a5198bcc91 button');\n",
              "      quickchartButtonEl.style.display =\n",
              "        google.colab.kernel.accessAllowed ? 'block' : 'none';\n",
              "    })();\n",
              "  </script>\n",
              "</div>\n",
              "\n",
              "    </div>\n",
              "  </div>\n"
            ],
            "application/vnd.google.colaboratory.intrinsic+json": {
              "type": "dataframe",
              "summary": "{\n  \"name\": \"data\",\n  \"rows\": 8,\n  \"fields\": [\n    {\n      \"column\": \"Id\",\n      \"properties\": {\n        \"dtype\": \"number\",\n        \"std\": 53.756293020494844,\n        \"min\": 1.0,\n        \"max\": 150.0,\n        \"num_unique_values\": 6,\n        \"samples\": [\n          150.0,\n          75.5,\n          112.75\n        ],\n        \"semantic_type\": \"\",\n        \"description\": \"\"\n      }\n    },\n    {\n      \"column\": \"SepalLengthCm\",\n      \"properties\": {\n        \"dtype\": \"number\",\n        \"std\": 51.24711349471842,\n        \"min\": 0.828066127977863,\n        \"max\": 150.0,\n        \"num_unique_values\": 8,\n        \"samples\": [\n          5.843333333333334,\n          5.8,\n          150.0\n        ],\n        \"semantic_type\": \"\",\n        \"description\": \"\"\n      }\n    },\n    {\n      \"column\": \"SepalWidthCm\",\n      \"properties\": {\n        \"dtype\": \"number\",\n        \"std\": 52.08647211421483,\n        \"min\": 0.4335943113621737,\n        \"max\": 150.0,\n        \"num_unique_values\": 8,\n        \"samples\": [\n          3.0540000000000003,\n          3.0,\n          150.0\n        ],\n        \"semantic_type\": \"\",\n        \"description\": \"\"\n      }\n    },\n    {\n      \"column\": \"PetalLengthCm\",\n      \"properties\": {\n        \"dtype\": \"number\",\n        \"std\": 51.835227940958106,\n        \"min\": 1.0,\n        \"max\": 150.0,\n        \"num_unique_values\": 8,\n        \"samples\": [\n          3.758666666666666,\n          4.35,\n          150.0\n        ],\n        \"semantic_type\": \"\",\n        \"description\": \"\"\n      }\n    },\n    {\n      \"column\": \"PetalWidthCm\",\n      \"properties\": {\n        \"dtype\": \"number\",\n        \"std\": 52.636634243409915,\n        \"min\": 0.1,\n        \"max\": 150.0,\n        \"num_unique_values\": 8,\n        \"samples\": [\n          1.1986666666666668,\n          1.3,\n          150.0\n        ],\n        \"semantic_type\": \"\",\n        \"description\": \"\"\n      }\n    }\n  ]\n}"
            }
          },
          "metadata": {},
          "execution_count": 351
        }
      ]
    },
    {
      "cell_type": "code",
      "source": [
        "data.Species.value_counts()"
      ],
      "metadata": {
        "colab": {
          "base_uri": "https://localhost:8080/"
        },
        "id": "SDa0XRd6vCcs",
        "outputId": "d15ac806-ccc1-4fdf-e4f2-9112e394faaf"
      },
      "execution_count": null,
      "outputs": [
        {
          "output_type": "execute_result",
          "data": {
            "text/plain": [
              "Iris-setosa        50\n",
              "Iris-versicolor    50\n",
              "Iris-virginica     50\n",
              "Name: Species, dtype: int64"
            ]
          },
          "metadata": {},
          "execution_count": 352
        }
      ]
    },
    {
      "cell_type": "code",
      "source": [
        "data.Species.unique()"
      ],
      "metadata": {
        "colab": {
          "base_uri": "https://localhost:8080/"
        },
        "id": "8mULDQo1wOEJ",
        "outputId": "1053a062-b98f-429d-caa1-d22af640d064"
      },
      "execution_count": null,
      "outputs": [
        {
          "output_type": "execute_result",
          "data": {
            "text/plain": [
              "array(['Iris-setosa', 'Iris-versicolor', 'Iris-virginica'], dtype=object)"
            ]
          },
          "metadata": {},
          "execution_count": 353
        }
      ]
    },
    {
      "cell_type": "markdown",
      "source": [
        "### One Hot Encoding on Target Variable"
      ],
      "metadata": {
        "id": "w9oXwHSPwdEM"
      }
    },
    {
      "cell_type": "code",
      "source": [
        "# to convert categorical to dummy representation\n",
        "Species = pd.get_dummies(data[\"Species\"])"
      ],
      "metadata": {
        "id": "OO0La6gawYZ3"
      },
      "execution_count": null,
      "outputs": []
    },
    {
      "cell_type": "code",
      "source": [
        "Species.head(5)"
      ],
      "metadata": {
        "colab": {
          "base_uri": "https://localhost:8080/",
          "height": 206
        },
        "id": "eFlEBKNTwlEn",
        "outputId": "7cac4da5-5080-488a-ccbb-96978ebf7376"
      },
      "execution_count": null,
      "outputs": [
        {
          "output_type": "execute_result",
          "data": {
            "text/plain": [
              "   Iris-setosa  Iris-versicolor  Iris-virginica\n",
              "0            1                0               0\n",
              "1            1                0               0\n",
              "2            1                0               0\n",
              "3            1                0               0\n",
              "4            1                0               0"
            ],
            "text/html": [
              "\n",
              "  <div id=\"df-98113a3b-cce4-40c6-a5d2-6577728eda1c\" class=\"colab-df-container\">\n",
              "    <div>\n",
              "<style scoped>\n",
              "    .dataframe tbody tr th:only-of-type {\n",
              "        vertical-align: middle;\n",
              "    }\n",
              "\n",
              "    .dataframe tbody tr th {\n",
              "        vertical-align: top;\n",
              "    }\n",
              "\n",
              "    .dataframe thead th {\n",
              "        text-align: right;\n",
              "    }\n",
              "</style>\n",
              "<table border=\"1\" class=\"dataframe\">\n",
              "  <thead>\n",
              "    <tr style=\"text-align: right;\">\n",
              "      <th></th>\n",
              "      <th>Iris-setosa</th>\n",
              "      <th>Iris-versicolor</th>\n",
              "      <th>Iris-virginica</th>\n",
              "    </tr>\n",
              "  </thead>\n",
              "  <tbody>\n",
              "    <tr>\n",
              "      <th>0</th>\n",
              "      <td>1</td>\n",
              "      <td>0</td>\n",
              "      <td>0</td>\n",
              "    </tr>\n",
              "    <tr>\n",
              "      <th>1</th>\n",
              "      <td>1</td>\n",
              "      <td>0</td>\n",
              "      <td>0</td>\n",
              "    </tr>\n",
              "    <tr>\n",
              "      <th>2</th>\n",
              "      <td>1</td>\n",
              "      <td>0</td>\n",
              "      <td>0</td>\n",
              "    </tr>\n",
              "    <tr>\n",
              "      <th>3</th>\n",
              "      <td>1</td>\n",
              "      <td>0</td>\n",
              "      <td>0</td>\n",
              "    </tr>\n",
              "    <tr>\n",
              "      <th>4</th>\n",
              "      <td>1</td>\n",
              "      <td>0</td>\n",
              "      <td>0</td>\n",
              "    </tr>\n",
              "  </tbody>\n",
              "</table>\n",
              "</div>\n",
              "    <div class=\"colab-df-buttons\">\n",
              "\n",
              "  <div class=\"colab-df-container\">\n",
              "    <button class=\"colab-df-convert\" onclick=\"convertToInteractive('df-98113a3b-cce4-40c6-a5d2-6577728eda1c')\"\n",
              "            title=\"Convert this dataframe to an interactive table.\"\n",
              "            style=\"display:none;\">\n",
              "\n",
              "  <svg xmlns=\"http://www.w3.org/2000/svg\" height=\"24px\" viewBox=\"0 -960 960 960\">\n",
              "    <path d=\"M120-120v-720h720v720H120Zm60-500h600v-160H180v160Zm220 220h160v-160H400v160Zm0 220h160v-160H400v160ZM180-400h160v-160H180v160Zm440 0h160v-160H620v160ZM180-180h160v-160H180v160Zm440 0h160v-160H620v160Z\"/>\n",
              "  </svg>\n",
              "    </button>\n",
              "\n",
              "  <style>\n",
              "    .colab-df-container {\n",
              "      display:flex;\n",
              "      gap: 12px;\n",
              "    }\n",
              "\n",
              "    .colab-df-convert {\n",
              "      background-color: #E8F0FE;\n",
              "      border: none;\n",
              "      border-radius: 50%;\n",
              "      cursor: pointer;\n",
              "      display: none;\n",
              "      fill: #1967D2;\n",
              "      height: 32px;\n",
              "      padding: 0 0 0 0;\n",
              "      width: 32px;\n",
              "    }\n",
              "\n",
              "    .colab-df-convert:hover {\n",
              "      background-color: #E2EBFA;\n",
              "      box-shadow: 0px 1px 2px rgba(60, 64, 67, 0.3), 0px 1px 3px 1px rgba(60, 64, 67, 0.15);\n",
              "      fill: #174EA6;\n",
              "    }\n",
              "\n",
              "    .colab-df-buttons div {\n",
              "      margin-bottom: 4px;\n",
              "    }\n",
              "\n",
              "    [theme=dark] .colab-df-convert {\n",
              "      background-color: #3B4455;\n",
              "      fill: #D2E3FC;\n",
              "    }\n",
              "\n",
              "    [theme=dark] .colab-df-convert:hover {\n",
              "      background-color: #434B5C;\n",
              "      box-shadow: 0px 1px 3px 1px rgba(0, 0, 0, 0.15);\n",
              "      filter: drop-shadow(0px 1px 2px rgba(0, 0, 0, 0.3));\n",
              "      fill: #FFFFFF;\n",
              "    }\n",
              "  </style>\n",
              "\n",
              "    <script>\n",
              "      const buttonEl =\n",
              "        document.querySelector('#df-98113a3b-cce4-40c6-a5d2-6577728eda1c button.colab-df-convert');\n",
              "      buttonEl.style.display =\n",
              "        google.colab.kernel.accessAllowed ? 'block' : 'none';\n",
              "\n",
              "      async function convertToInteractive(key) {\n",
              "        const element = document.querySelector('#df-98113a3b-cce4-40c6-a5d2-6577728eda1c');\n",
              "        const dataTable =\n",
              "          await google.colab.kernel.invokeFunction('convertToInteractive',\n",
              "                                                    [key], {});\n",
              "        if (!dataTable) return;\n",
              "\n",
              "        const docLinkHtml = 'Like what you see? Visit the ' +\n",
              "          '<a target=\"_blank\" href=https://colab.research.google.com/notebooks/data_table.ipynb>data table notebook</a>'\n",
              "          + ' to learn more about interactive tables.';\n",
              "        element.innerHTML = '';\n",
              "        dataTable['output_type'] = 'display_data';\n",
              "        await google.colab.output.renderOutput(dataTable, element);\n",
              "        const docLink = document.createElement('div');\n",
              "        docLink.innerHTML = docLinkHtml;\n",
              "        element.appendChild(docLink);\n",
              "      }\n",
              "    </script>\n",
              "  </div>\n",
              "\n",
              "\n",
              "<div id=\"df-72651b4b-92a7-43bc-a62a-8c0eba52cbe2\">\n",
              "  <button class=\"colab-df-quickchart\" onclick=\"quickchart('df-72651b4b-92a7-43bc-a62a-8c0eba52cbe2')\"\n",
              "            title=\"Suggest charts\"\n",
              "            style=\"display:none;\">\n",
              "\n",
              "<svg xmlns=\"http://www.w3.org/2000/svg\" height=\"24px\"viewBox=\"0 0 24 24\"\n",
              "     width=\"24px\">\n",
              "    <g>\n",
              "        <path d=\"M19 3H5c-1.1 0-2 .9-2 2v14c0 1.1.9 2 2 2h14c1.1 0 2-.9 2-2V5c0-1.1-.9-2-2-2zM9 17H7v-7h2v7zm4 0h-2V7h2v10zm4 0h-2v-4h2v4z\"/>\n",
              "    </g>\n",
              "</svg>\n",
              "  </button>\n",
              "\n",
              "<style>\n",
              "  .colab-df-quickchart {\n",
              "      --bg-color: #E8F0FE;\n",
              "      --fill-color: #1967D2;\n",
              "      --hover-bg-color: #E2EBFA;\n",
              "      --hover-fill-color: #174EA6;\n",
              "      --disabled-fill-color: #AAA;\n",
              "      --disabled-bg-color: #DDD;\n",
              "  }\n",
              "\n",
              "  [theme=dark] .colab-df-quickchart {\n",
              "      --bg-color: #3B4455;\n",
              "      --fill-color: #D2E3FC;\n",
              "      --hover-bg-color: #434B5C;\n",
              "      --hover-fill-color: #FFFFFF;\n",
              "      --disabled-bg-color: #3B4455;\n",
              "      --disabled-fill-color: #666;\n",
              "  }\n",
              "\n",
              "  .colab-df-quickchart {\n",
              "    background-color: var(--bg-color);\n",
              "    border: none;\n",
              "    border-radius: 50%;\n",
              "    cursor: pointer;\n",
              "    display: none;\n",
              "    fill: var(--fill-color);\n",
              "    height: 32px;\n",
              "    padding: 0;\n",
              "    width: 32px;\n",
              "  }\n",
              "\n",
              "  .colab-df-quickchart:hover {\n",
              "    background-color: var(--hover-bg-color);\n",
              "    box-shadow: 0 1px 2px rgba(60, 64, 67, 0.3), 0 1px 3px 1px rgba(60, 64, 67, 0.15);\n",
              "    fill: var(--button-hover-fill-color);\n",
              "  }\n",
              "\n",
              "  .colab-df-quickchart-complete:disabled,\n",
              "  .colab-df-quickchart-complete:disabled:hover {\n",
              "    background-color: var(--disabled-bg-color);\n",
              "    fill: var(--disabled-fill-color);\n",
              "    box-shadow: none;\n",
              "  }\n",
              "\n",
              "  .colab-df-spinner {\n",
              "    border: 2px solid var(--fill-color);\n",
              "    border-color: transparent;\n",
              "    border-bottom-color: var(--fill-color);\n",
              "    animation:\n",
              "      spin 1s steps(1) infinite;\n",
              "  }\n",
              "\n",
              "  @keyframes spin {\n",
              "    0% {\n",
              "      border-color: transparent;\n",
              "      border-bottom-color: var(--fill-color);\n",
              "      border-left-color: var(--fill-color);\n",
              "    }\n",
              "    20% {\n",
              "      border-color: transparent;\n",
              "      border-left-color: var(--fill-color);\n",
              "      border-top-color: var(--fill-color);\n",
              "    }\n",
              "    30% {\n",
              "      border-color: transparent;\n",
              "      border-left-color: var(--fill-color);\n",
              "      border-top-color: var(--fill-color);\n",
              "      border-right-color: var(--fill-color);\n",
              "    }\n",
              "    40% {\n",
              "      border-color: transparent;\n",
              "      border-right-color: var(--fill-color);\n",
              "      border-top-color: var(--fill-color);\n",
              "    }\n",
              "    60% {\n",
              "      border-color: transparent;\n",
              "      border-right-color: var(--fill-color);\n",
              "    }\n",
              "    80% {\n",
              "      border-color: transparent;\n",
              "      border-right-color: var(--fill-color);\n",
              "      border-bottom-color: var(--fill-color);\n",
              "    }\n",
              "    90% {\n",
              "      border-color: transparent;\n",
              "      border-bottom-color: var(--fill-color);\n",
              "    }\n",
              "  }\n",
              "</style>\n",
              "\n",
              "  <script>\n",
              "    async function quickchart(key) {\n",
              "      const quickchartButtonEl =\n",
              "        document.querySelector('#' + key + ' button');\n",
              "      quickchartButtonEl.disabled = true;  // To prevent multiple clicks.\n",
              "      quickchartButtonEl.classList.add('colab-df-spinner');\n",
              "      try {\n",
              "        const charts = await google.colab.kernel.invokeFunction(\n",
              "            'suggestCharts', [key], {});\n",
              "      } catch (error) {\n",
              "        console.error('Error during call to suggestCharts:', error);\n",
              "      }\n",
              "      quickchartButtonEl.classList.remove('colab-df-spinner');\n",
              "      quickchartButtonEl.classList.add('colab-df-quickchart-complete');\n",
              "    }\n",
              "    (() => {\n",
              "      let quickchartButtonEl =\n",
              "        document.querySelector('#df-72651b4b-92a7-43bc-a62a-8c0eba52cbe2 button');\n",
              "      quickchartButtonEl.style.display =\n",
              "        google.colab.kernel.accessAllowed ? 'block' : 'none';\n",
              "    })();\n",
              "  </script>\n",
              "</div>\n",
              "\n",
              "    </div>\n",
              "  </div>\n"
            ],
            "application/vnd.google.colaboratory.intrinsic+json": {
              "type": "dataframe",
              "variable_name": "Species",
              "summary": "{\n  \"name\": \"Species\",\n  \"rows\": 150,\n  \"fields\": [\n    {\n      \"column\": \"Iris-setosa\",\n      \"properties\": {\n        \"dtype\": \"uint8\",\n        \"num_unique_values\": 2,\n        \"samples\": [\n          0,\n          1\n        ],\n        \"semantic_type\": \"\",\n        \"description\": \"\"\n      }\n    },\n    {\n      \"column\": \"Iris-versicolor\",\n      \"properties\": {\n        \"dtype\": \"uint8\",\n        \"num_unique_values\": 2,\n        \"samples\": [\n          1,\n          0\n        ],\n        \"semantic_type\": \"\",\n        \"description\": \"\"\n      }\n    },\n    {\n      \"column\": \"Iris-virginica\",\n      \"properties\": {\n        \"dtype\": \"uint8\",\n        \"num_unique_values\": 2,\n        \"samples\": [\n          1,\n          0\n        ],\n        \"semantic_type\": \"\",\n        \"description\": \"\"\n      }\n    }\n  ]\n}"
            }
          },
          "metadata": {},
          "execution_count": 355
        }
      ]
    },
    {
      "cell_type": "code",
      "source": [
        "# dropping species column from og dataset\n",
        "data.drop([\"Species\", \"Id\"], axis=1, inplace=True)"
      ],
      "metadata": {
        "id": "SKuo2jpLw5es"
      },
      "execution_count": null,
      "outputs": []
    },
    {
      "cell_type": "code",
      "source": [
        "data.head()"
      ],
      "metadata": {
        "colab": {
          "base_uri": "https://localhost:8080/",
          "height": 206
        },
        "id": "1g1DuEMUyxAo",
        "outputId": "945ec5f3-e1b0-4aaf-eb25-a9cca7f86910"
      },
      "execution_count": null,
      "outputs": [
        {
          "output_type": "execute_result",
          "data": {
            "text/plain": [
              "   SepalLengthCm  SepalWidthCm  PetalLengthCm  PetalWidthCm\n",
              "0            5.1           3.5            1.4           0.2\n",
              "1            4.9           3.0            1.4           0.2\n",
              "2            4.7           3.2            1.3           0.2\n",
              "3            4.6           3.1            1.5           0.2\n",
              "4            5.0           3.6            1.4           0.2"
            ],
            "text/html": [
              "\n",
              "  <div id=\"df-dc4666c6-9db7-4521-8cf2-c84e1bca2112\" class=\"colab-df-container\">\n",
              "    <div>\n",
              "<style scoped>\n",
              "    .dataframe tbody tr th:only-of-type {\n",
              "        vertical-align: middle;\n",
              "    }\n",
              "\n",
              "    .dataframe tbody tr th {\n",
              "        vertical-align: top;\n",
              "    }\n",
              "\n",
              "    .dataframe thead th {\n",
              "        text-align: right;\n",
              "    }\n",
              "</style>\n",
              "<table border=\"1\" class=\"dataframe\">\n",
              "  <thead>\n",
              "    <tr style=\"text-align: right;\">\n",
              "      <th></th>\n",
              "      <th>SepalLengthCm</th>\n",
              "      <th>SepalWidthCm</th>\n",
              "      <th>PetalLengthCm</th>\n",
              "      <th>PetalWidthCm</th>\n",
              "    </tr>\n",
              "  </thead>\n",
              "  <tbody>\n",
              "    <tr>\n",
              "      <th>0</th>\n",
              "      <td>5.1</td>\n",
              "      <td>3.5</td>\n",
              "      <td>1.4</td>\n",
              "      <td>0.2</td>\n",
              "    </tr>\n",
              "    <tr>\n",
              "      <th>1</th>\n",
              "      <td>4.9</td>\n",
              "      <td>3.0</td>\n",
              "      <td>1.4</td>\n",
              "      <td>0.2</td>\n",
              "    </tr>\n",
              "    <tr>\n",
              "      <th>2</th>\n",
              "      <td>4.7</td>\n",
              "      <td>3.2</td>\n",
              "      <td>1.3</td>\n",
              "      <td>0.2</td>\n",
              "    </tr>\n",
              "    <tr>\n",
              "      <th>3</th>\n",
              "      <td>4.6</td>\n",
              "      <td>3.1</td>\n",
              "      <td>1.5</td>\n",
              "      <td>0.2</td>\n",
              "    </tr>\n",
              "    <tr>\n",
              "      <th>4</th>\n",
              "      <td>5.0</td>\n",
              "      <td>3.6</td>\n",
              "      <td>1.4</td>\n",
              "      <td>0.2</td>\n",
              "    </tr>\n",
              "  </tbody>\n",
              "</table>\n",
              "</div>\n",
              "    <div class=\"colab-df-buttons\">\n",
              "\n",
              "  <div class=\"colab-df-container\">\n",
              "    <button class=\"colab-df-convert\" onclick=\"convertToInteractive('df-dc4666c6-9db7-4521-8cf2-c84e1bca2112')\"\n",
              "            title=\"Convert this dataframe to an interactive table.\"\n",
              "            style=\"display:none;\">\n",
              "\n",
              "  <svg xmlns=\"http://www.w3.org/2000/svg\" height=\"24px\" viewBox=\"0 -960 960 960\">\n",
              "    <path d=\"M120-120v-720h720v720H120Zm60-500h600v-160H180v160Zm220 220h160v-160H400v160Zm0 220h160v-160H400v160ZM180-400h160v-160H180v160Zm440 0h160v-160H620v160ZM180-180h160v-160H180v160Zm440 0h160v-160H620v160Z\"/>\n",
              "  </svg>\n",
              "    </button>\n",
              "\n",
              "  <style>\n",
              "    .colab-df-container {\n",
              "      display:flex;\n",
              "      gap: 12px;\n",
              "    }\n",
              "\n",
              "    .colab-df-convert {\n",
              "      background-color: #E8F0FE;\n",
              "      border: none;\n",
              "      border-radius: 50%;\n",
              "      cursor: pointer;\n",
              "      display: none;\n",
              "      fill: #1967D2;\n",
              "      height: 32px;\n",
              "      padding: 0 0 0 0;\n",
              "      width: 32px;\n",
              "    }\n",
              "\n",
              "    .colab-df-convert:hover {\n",
              "      background-color: #E2EBFA;\n",
              "      box-shadow: 0px 1px 2px rgba(60, 64, 67, 0.3), 0px 1px 3px 1px rgba(60, 64, 67, 0.15);\n",
              "      fill: #174EA6;\n",
              "    }\n",
              "\n",
              "    .colab-df-buttons div {\n",
              "      margin-bottom: 4px;\n",
              "    }\n",
              "\n",
              "    [theme=dark] .colab-df-convert {\n",
              "      background-color: #3B4455;\n",
              "      fill: #D2E3FC;\n",
              "    }\n",
              "\n",
              "    [theme=dark] .colab-df-convert:hover {\n",
              "      background-color: #434B5C;\n",
              "      box-shadow: 0px 1px 3px 1px rgba(0, 0, 0, 0.15);\n",
              "      filter: drop-shadow(0px 1px 2px rgba(0, 0, 0, 0.3));\n",
              "      fill: #FFFFFF;\n",
              "    }\n",
              "  </style>\n",
              "\n",
              "    <script>\n",
              "      const buttonEl =\n",
              "        document.querySelector('#df-dc4666c6-9db7-4521-8cf2-c84e1bca2112 button.colab-df-convert');\n",
              "      buttonEl.style.display =\n",
              "        google.colab.kernel.accessAllowed ? 'block' : 'none';\n",
              "\n",
              "      async function convertToInteractive(key) {\n",
              "        const element = document.querySelector('#df-dc4666c6-9db7-4521-8cf2-c84e1bca2112');\n",
              "        const dataTable =\n",
              "          await google.colab.kernel.invokeFunction('convertToInteractive',\n",
              "                                                    [key], {});\n",
              "        if (!dataTable) return;\n",
              "\n",
              "        const docLinkHtml = 'Like what you see? Visit the ' +\n",
              "          '<a target=\"_blank\" href=https://colab.research.google.com/notebooks/data_table.ipynb>data table notebook</a>'\n",
              "          + ' to learn more about interactive tables.';\n",
              "        element.innerHTML = '';\n",
              "        dataTable['output_type'] = 'display_data';\n",
              "        await google.colab.output.renderOutput(dataTable, element);\n",
              "        const docLink = document.createElement('div');\n",
              "        docLink.innerHTML = docLinkHtml;\n",
              "        element.appendChild(docLink);\n",
              "      }\n",
              "    </script>\n",
              "  </div>\n",
              "\n",
              "\n",
              "<div id=\"df-03a6509c-1731-4c72-964d-a3282fa01012\">\n",
              "  <button class=\"colab-df-quickchart\" onclick=\"quickchart('df-03a6509c-1731-4c72-964d-a3282fa01012')\"\n",
              "            title=\"Suggest charts\"\n",
              "            style=\"display:none;\">\n",
              "\n",
              "<svg xmlns=\"http://www.w3.org/2000/svg\" height=\"24px\"viewBox=\"0 0 24 24\"\n",
              "     width=\"24px\">\n",
              "    <g>\n",
              "        <path d=\"M19 3H5c-1.1 0-2 .9-2 2v14c0 1.1.9 2 2 2h14c1.1 0 2-.9 2-2V5c0-1.1-.9-2-2-2zM9 17H7v-7h2v7zm4 0h-2V7h2v10zm4 0h-2v-4h2v4z\"/>\n",
              "    </g>\n",
              "</svg>\n",
              "  </button>\n",
              "\n",
              "<style>\n",
              "  .colab-df-quickchart {\n",
              "      --bg-color: #E8F0FE;\n",
              "      --fill-color: #1967D2;\n",
              "      --hover-bg-color: #E2EBFA;\n",
              "      --hover-fill-color: #174EA6;\n",
              "      --disabled-fill-color: #AAA;\n",
              "      --disabled-bg-color: #DDD;\n",
              "  }\n",
              "\n",
              "  [theme=dark] .colab-df-quickchart {\n",
              "      --bg-color: #3B4455;\n",
              "      --fill-color: #D2E3FC;\n",
              "      --hover-bg-color: #434B5C;\n",
              "      --hover-fill-color: #FFFFFF;\n",
              "      --disabled-bg-color: #3B4455;\n",
              "      --disabled-fill-color: #666;\n",
              "  }\n",
              "\n",
              "  .colab-df-quickchart {\n",
              "    background-color: var(--bg-color);\n",
              "    border: none;\n",
              "    border-radius: 50%;\n",
              "    cursor: pointer;\n",
              "    display: none;\n",
              "    fill: var(--fill-color);\n",
              "    height: 32px;\n",
              "    padding: 0;\n",
              "    width: 32px;\n",
              "  }\n",
              "\n",
              "  .colab-df-quickchart:hover {\n",
              "    background-color: var(--hover-bg-color);\n",
              "    box-shadow: 0 1px 2px rgba(60, 64, 67, 0.3), 0 1px 3px 1px rgba(60, 64, 67, 0.15);\n",
              "    fill: var(--button-hover-fill-color);\n",
              "  }\n",
              "\n",
              "  .colab-df-quickchart-complete:disabled,\n",
              "  .colab-df-quickchart-complete:disabled:hover {\n",
              "    background-color: var(--disabled-bg-color);\n",
              "    fill: var(--disabled-fill-color);\n",
              "    box-shadow: none;\n",
              "  }\n",
              "\n",
              "  .colab-df-spinner {\n",
              "    border: 2px solid var(--fill-color);\n",
              "    border-color: transparent;\n",
              "    border-bottom-color: var(--fill-color);\n",
              "    animation:\n",
              "      spin 1s steps(1) infinite;\n",
              "  }\n",
              "\n",
              "  @keyframes spin {\n",
              "    0% {\n",
              "      border-color: transparent;\n",
              "      border-bottom-color: var(--fill-color);\n",
              "      border-left-color: var(--fill-color);\n",
              "    }\n",
              "    20% {\n",
              "      border-color: transparent;\n",
              "      border-left-color: var(--fill-color);\n",
              "      border-top-color: var(--fill-color);\n",
              "    }\n",
              "    30% {\n",
              "      border-color: transparent;\n",
              "      border-left-color: var(--fill-color);\n",
              "      border-top-color: var(--fill-color);\n",
              "      border-right-color: var(--fill-color);\n",
              "    }\n",
              "    40% {\n",
              "      border-color: transparent;\n",
              "      border-right-color: var(--fill-color);\n",
              "      border-top-color: var(--fill-color);\n",
              "    }\n",
              "    60% {\n",
              "      border-color: transparent;\n",
              "      border-right-color: var(--fill-color);\n",
              "    }\n",
              "    80% {\n",
              "      border-color: transparent;\n",
              "      border-right-color: var(--fill-color);\n",
              "      border-bottom-color: var(--fill-color);\n",
              "    }\n",
              "    90% {\n",
              "      border-color: transparent;\n",
              "      border-bottom-color: var(--fill-color);\n",
              "    }\n",
              "  }\n",
              "</style>\n",
              "\n",
              "  <script>\n",
              "    async function quickchart(key) {\n",
              "      const quickchartButtonEl =\n",
              "        document.querySelector('#' + key + ' button');\n",
              "      quickchartButtonEl.disabled = true;  // To prevent multiple clicks.\n",
              "      quickchartButtonEl.classList.add('colab-df-spinner');\n",
              "      try {\n",
              "        const charts = await google.colab.kernel.invokeFunction(\n",
              "            'suggestCharts', [key], {});\n",
              "      } catch (error) {\n",
              "        console.error('Error during call to suggestCharts:', error);\n",
              "      }\n",
              "      quickchartButtonEl.classList.remove('colab-df-spinner');\n",
              "      quickchartButtonEl.classList.add('colab-df-quickchart-complete');\n",
              "    }\n",
              "    (() => {\n",
              "      let quickchartButtonEl =\n",
              "        document.querySelector('#df-03a6509c-1731-4c72-964d-a3282fa01012 button');\n",
              "      quickchartButtonEl.style.display =\n",
              "        google.colab.kernel.accessAllowed ? 'block' : 'none';\n",
              "    })();\n",
              "  </script>\n",
              "</div>\n",
              "\n",
              "    </div>\n",
              "  </div>\n"
            ],
            "application/vnd.google.colaboratory.intrinsic+json": {
              "type": "dataframe",
              "variable_name": "data",
              "summary": "{\n  \"name\": \"data\",\n  \"rows\": 150,\n  \"fields\": [\n    {\n      \"column\": \"SepalLengthCm\",\n      \"properties\": {\n        \"dtype\": \"number\",\n        \"std\": 0.828066127977863,\n        \"min\": 4.3,\n        \"max\": 7.9,\n        \"num_unique_values\": 35,\n        \"samples\": [\n          6.2,\n          4.5,\n          5.6\n        ],\n        \"semantic_type\": \"\",\n        \"description\": \"\"\n      }\n    },\n    {\n      \"column\": \"SepalWidthCm\",\n      \"properties\": {\n        \"dtype\": \"number\",\n        \"std\": 0.4335943113621737,\n        \"min\": 2.0,\n        \"max\": 4.4,\n        \"num_unique_values\": 23,\n        \"samples\": [\n          2.3,\n          4.0,\n          3.5\n        ],\n        \"semantic_type\": \"\",\n        \"description\": \"\"\n      }\n    },\n    {\n      \"column\": \"PetalLengthCm\",\n      \"properties\": {\n        \"dtype\": \"number\",\n        \"std\": 1.7644204199522626,\n        \"min\": 1.0,\n        \"max\": 6.9,\n        \"num_unique_values\": 43,\n        \"samples\": [\n          6.7,\n          3.8,\n          3.7\n        ],\n        \"semantic_type\": \"\",\n        \"description\": \"\"\n      }\n    },\n    {\n      \"column\": \"PetalWidthCm\",\n      \"properties\": {\n        \"dtype\": \"number\",\n        \"std\": 0.7631607417008411,\n        \"min\": 0.1,\n        \"max\": 2.5,\n        \"num_unique_values\": 22,\n        \"samples\": [\n          0.2,\n          1.2,\n          1.3\n        ],\n        \"semantic_type\": \"\",\n        \"description\": \"\"\n      }\n    }\n  ]\n}"
            }
          },
          "metadata": {},
          "execution_count": 357
        }
      ]
    },
    {
      "cell_type": "code",
      "source": [
        "std_scaler = StandardScaler()"
      ],
      "metadata": {
        "id": "wZB02M2-xG9K"
      },
      "execution_count": null,
      "outputs": []
    },
    {
      "cell_type": "code",
      "source": [
        "data.shape"
      ],
      "metadata": {
        "colab": {
          "base_uri": "https://localhost:8080/"
        },
        "id": "F3sNxssLzedE",
        "outputId": "99cd3f88-3f4a-439e-e7df-9df942ad5fb4"
      },
      "execution_count": null,
      "outputs": [
        {
          "output_type": "execute_result",
          "data": {
            "text/plain": [
              "(150, 4)"
            ]
          },
          "metadata": {},
          "execution_count": 359
        }
      ]
    },
    {
      "cell_type": "code",
      "source": [
        "data_scaled = std_scaler.fit_transform(data)"
      ],
      "metadata": {
        "id": "jEXel_OWxYbV"
      },
      "execution_count": null,
      "outputs": []
    },
    {
      "cell_type": "code",
      "source": [
        "data_scaled.shape"
      ],
      "metadata": {
        "colab": {
          "base_uri": "https://localhost:8080/"
        },
        "id": "7l50lAzoyYnW",
        "outputId": "b9b56137-cd0d-4927-88f8-22342fa985e4"
      },
      "execution_count": null,
      "outputs": [
        {
          "output_type": "execute_result",
          "data": {
            "text/plain": [
              "(150, 4)"
            ]
          },
          "metadata": {},
          "execution_count": 361
        }
      ]
    },
    {
      "cell_type": "code",
      "source": [
        "data_transformed = pd.DataFrame(data_scaled, columns=[\"SepalLengthCm\", \"SepalWidthCm\", \"PetalLengthCm\", \"PetalWidthCm\"])"
      ],
      "metadata": {
        "id": "Oty8lpa_xgSF"
      },
      "execution_count": null,
      "outputs": []
    },
    {
      "cell_type": "code",
      "source": [
        "iris_df = pd.concat([data_transformed, Species], axis=1)"
      ],
      "metadata": {
        "id": "2k5kVR-szBdi"
      },
      "execution_count": null,
      "outputs": []
    },
    {
      "cell_type": "code",
      "source": [
        "iris_df.shape"
      ],
      "metadata": {
        "colab": {
          "base_uri": "https://localhost:8080/"
        },
        "id": "pWdbUIciz94m",
        "outputId": "8efebbd4-da5e-4b90-e6c3-1fcb107bb559"
      },
      "execution_count": null,
      "outputs": [
        {
          "output_type": "execute_result",
          "data": {
            "text/plain": [
              "(150, 7)"
            ]
          },
          "metadata": {},
          "execution_count": 364
        }
      ]
    },
    {
      "cell_type": "markdown",
      "source": [
        "initializing weights and biases"
      ],
      "metadata": {
        "id": "3QGj3o8Ni4I1"
      }
    },
    {
      "cell_type": "code",
      "source": [
        "np.random.seed(42)\n",
        "\n",
        "w_i_h1 = np.random.rand(4,1)\n",
        "w_i_h2 = np.random.rand(4,1)\n",
        "w_h_o1 = np.random.rand(2,1)\n",
        "w_h_o2 = np.random.rand(2,1)\n",
        "w_h_o3 = np.random.rand(2,1)\n",
        "\n",
        "bias1 = np.random.rand(1)\n",
        "bias2 = np.random.rand(1)"
      ],
      "metadata": {
        "id": "gyXcZwPi0AyF"
      },
      "execution_count": null,
      "outputs": []
    },
    {
      "cell_type": "code",
      "source": [
        "print(w_i_h1,\"\\n\")\n",
        "print(w_i_h2,\"\\n\")\n",
        "print(w_h_o1,\"\\n\")\n",
        "print(w_h_o2,\"\\n\")\n",
        "print(w_h_o3,\"\\n\")\n",
        "print(bias1,\"\\n\")\n",
        "print(bias2)"
      ],
      "metadata": {
        "colab": {
          "base_uri": "https://localhost:8080/"
        },
        "id": "KPhmUzVd0mc3",
        "outputId": "cb939af6-df48-4057-a4f1-65c0f35d19a3"
      },
      "execution_count": null,
      "outputs": [
        {
          "output_type": "stream",
          "name": "stdout",
          "text": [
            "[[0.37454012]\n",
            " [0.95071431]\n",
            " [0.73199394]\n",
            " [0.59865848]] \n",
            "\n",
            "[[0.15601864]\n",
            " [0.15599452]\n",
            " [0.05808361]\n",
            " [0.86617615]] \n",
            "\n",
            "[[0.60111501]\n",
            " [0.70807258]] \n",
            "\n",
            "[[0.02058449]\n",
            " [0.96990985]] \n",
            "\n",
            "[[0.83244264]\n",
            " [0.21233911]] \n",
            "\n",
            "[0.18182497] \n",
            "\n",
            "[0.18340451]\n"
          ]
        }
      ]
    },
    {
      "cell_type": "markdown",
      "source": [
        "function for sigmoid"
      ],
      "metadata": {
        "id": "bPLiB10mi7VA"
      }
    },
    {
      "cell_type": "code",
      "source": [
        "def sigmoid(x):\n",
        "  return 1/(1+np.exp(-x))"
      ],
      "metadata": {
        "id": "-QIM09tj17No"
      },
      "execution_count": null,
      "outputs": []
    },
    {
      "cell_type": "code",
      "source": [
        "# input = data\n",
        "input = iris_df.iloc[:, :4]"
      ],
      "metadata": {
        "id": "G_chz53u42zr"
      },
      "execution_count": null,
      "outputs": []
    },
    {
      "cell_type": "code",
      "source": [
        "print(np.dot(input, w_i_h1))"
      ],
      "metadata": {
        "colab": {
          "base_uri": "https://localhost:8080/"
        },
        "id": "l3PlgJdZ2aLJ",
        "outputId": "68a63402-e169-46ba-9431-aa03a7e6ba6c"
      },
      "execution_count": null,
      "outputs": [
        {
          "output_type": "stream",
          "name": "stdout",
          "text": [
            "[[-1.12397760e+00]\n",
            " [-2.31473260e+00]\n",
            " [-2.00712619e+00]\n",
            " [-2.18925583e+00]\n",
            " [-9.49361715e-01]\n",
            " [ 1.74452398e-01]\n",
            " [-1.49217944e+00]\n",
            " [-1.34773258e+00]\n",
            " [-2.76164185e+00]\n",
            " [-2.13181655e+00]\n",
            " [-5.06209341e-01]\n",
            " [-1.39687169e+00]\n",
            " [-2.43882224e+00]\n",
            " [-2.79060943e+00]\n",
            " [ 2.10437850e-01]\n",
            " [ 1.32733893e+00]\n",
            " [ 7.95099471e-03]\n",
            " [-1.04527019e+00]\n",
            " [ 1.18935653e-02]\n",
            " [-3.43650508e-01]\n",
            " [-1.08295297e+00]\n",
            " [-4.84941208e-01]\n",
            " [-1.29739203e+00]\n",
            " [-1.20297554e+00]\n",
            " [-1.27199564e+00]\n",
            " [-2.18609967e+00]\n",
            " [-1.14869241e+00]\n",
            " [-1.03697002e+00]\n",
            " [-1.29859348e+00]\n",
            " [-1.88225014e+00]\n",
            " [-2.05686602e+00]\n",
            " [-1.00878885e+00]\n",
            " [ 2.04311231e-01]\n",
            " [ 5.97538085e-01]\n",
            " [-2.13181655e+00]\n",
            " [-1.91260485e+00]\n",
            " [-9.84074033e-01]\n",
            " [-2.13181655e+00]\n",
            " [-2.58326909e+00]\n",
            " [-1.30235035e+00]\n",
            " [-1.13227777e+00]\n",
            " [-3.99916622e+00]\n",
            " [-2.14327288e+00]\n",
            " [-7.71279487e-01]\n",
            " [-9.84416957e-02]\n",
            " [-2.28140742e+00]\n",
            " [-3.80732566e-01]\n",
            " [-2.01088307e+00]\n",
            " [-5.51591569e-01]\n",
            " [-1.60935604e+00]\n",
            " [ 1.39641590e+00]\n",
            " [ 1.11957924e+00]\n",
            " [ 1.29299368e+00]\n",
            " [-1.63438538e+00]\n",
            " [ 3.26594380e-01]\n",
            " [-2.35503617e-01]\n",
            " [ 1.45615323e+00]\n",
            " [-2.21418032e+00]\n",
            " [ 4.34559900e-01]\n",
            " [-8.53457566e-01]\n",
            " [-2.96553983e+00]\n",
            " [ 3.27795824e-01]\n",
            " [-1.86359457e+00]\n",
            " [ 3.27981517e-01]\n",
            " [-4.35515894e-01]\n",
            " [ 9.15395055e-01]\n",
            " [ 3.16525191e-01]\n",
            " [-8.12743128e-01]\n",
            " [-1.17116631e+00]\n",
            " [-1.34804710e+00]\n",
            " [ 1.25366638e+00]\n",
            " [-2.62101457e-01]\n",
            " [-2.99288353e-01]\n",
            " [-4.94314102e-02]\n",
            " [ 2.18919391e-01]\n",
            " [ 6.50014717e-01]\n",
            " [ 4.67284359e-01]\n",
            " [ 1.18127128e+00]\n",
            " [ 2.78055996e-01]\n",
            " [-1.32787557e+00]\n",
            " [-1.65505279e+00]\n",
            " [-1.77538555e+00]\n",
            " [-7.38579012e-01]\n",
            " [ 1.66519291e-01]\n",
            " [ 2.25760734e-01]\n",
            " [ 1.45675395e+00]\n",
            " [ 1.11897852e+00]\n",
            " [-1.10482614e+00]\n",
            " [-7.39103019e-03]\n",
            " [-1.19438916e+00]\n",
            " [-8.86597053e-01]\n",
            " [ 5.06354276e-01]\n",
            " [-9.16951771e-01]\n",
            " [-2.38879620e+00]\n",
            " [-6.25760008e-01]\n",
            " [ 9.09140275e-04]\n",
            " [-1.40381560e-01]\n",
            " [ 1.28154934e-01]\n",
            " [-1.94958640e+00]\n",
            " [-4.02005021e-01]\n",
            " [ 2.70564947e+00]\n",
            " [ 3.11877060e-01]\n",
            " [ 2.05225799e+00]\n",
            " [ 1.10820377e+00]\n",
            " [ 1.81704667e+00]\n",
            " [ 2.57054658e+00]\n",
            " [-9.43726139e-01]\n",
            " [ 1.85340351e+00]\n",
            " [ 4.92990945e-01]\n",
            " [ 3.81570921e+00]\n",
            " [ 1.80825062e+00]\n",
            " [ 6.67421134e-01]\n",
            " [ 1.74960990e+00]\n",
            " [-1.36419329e-01]\n",
            " [ 9.25412215e-01]\n",
            " [ 2.08224132e+00]\n",
            " [ 1.37734098e+00]\n",
            " [ 4.49624645e+00]\n",
            " [ 2.01822724e+00]\n",
            " [-1.05380402e+00]\n",
            " [ 2.47565386e+00]\n",
            " [ 4.36567420e-01]\n",
            " [ 2.13885054e+00]\n",
            " [ 3.76830093e-01]\n",
            " [ 2.44747270e+00]\n",
            " [ 2.34313956e+00]\n",
            " [ 5.09820623e-01]\n",
            " [ 9.46059964e-01]\n",
            " [ 1.16971011e+00]\n",
            " [ 1.66247782e+00]\n",
            " [ 1.67424434e+00]\n",
            " [ 4.30472003e+00]\n",
            " [ 1.24841752e+00]\n",
            " [ 4.43956677e-01]\n",
            " [ 4.26153460e-02]\n",
            " [ 2.56521688e+00]\n",
            " [ 2.68043877e+00]\n",
            " [ 1.55195686e+00]\n",
            " [ 8.59052385e-01]\n",
            " [ 1.97336488e+00]\n",
            " [ 2.20197335e+00]\n",
            " [ 2.00590365e+00]\n",
            " [ 3.11877060e-01]\n",
            " [ 2.51352234e+00]\n",
            " [ 2.76230233e+00]\n",
            " [ 1.73676643e+00]\n",
            " [ 5.71666335e-02]\n",
            " [ 1.40987975e+00]\n",
            " [ 2.47309843e+00]\n",
            " [ 9.38546208e-01]]\n"
          ]
        }
      ]
    },
    {
      "cell_type": "markdown",
      "source": [
        "feetforward step 1 - input"
      ],
      "metadata": {
        "id": "v4rDScFUjA0P"
      }
    },
    {
      "cell_type": "code",
      "source": [
        "z2_1=np.dot(input, w_i_h1) + bias1\n",
        "z2_2=np.dot(input, w_i_h1) + bias2"
      ],
      "metadata": {
        "id": "rlQPBQcG4tRb"
      },
      "execution_count": null,
      "outputs": []
    },
    {
      "cell_type": "code",
      "source": [
        "print(z2_1)"
      ],
      "metadata": {
        "colab": {
          "base_uri": "https://localhost:8080/"
        },
        "id": "6jRsLFQg4-W0",
        "outputId": "ec6d8e86-2699-471e-de10-76c756f587ed"
      },
      "execution_count": null,
      "outputs": [
        {
          "output_type": "stream",
          "name": "stdout",
          "text": [
            "[[-0.94215263]\n",
            " [-2.13290763]\n",
            " [-1.82530122]\n",
            " [-2.00743086]\n",
            " [-0.76753675]\n",
            " [ 0.35627737]\n",
            " [-1.31035447]\n",
            " [-1.16590762]\n",
            " [-2.57981689]\n",
            " [-1.94999158]\n",
            " [-0.32438437]\n",
            " [-1.21504672]\n",
            " [-2.25699727]\n",
            " [-2.60878447]\n",
            " [ 0.39226282]\n",
            " [ 1.5091639 ]\n",
            " [ 0.18977596]\n",
            " [-0.86344522]\n",
            " [ 0.19371853]\n",
            " [-0.16182554]\n",
            " [-0.901128  ]\n",
            " [-0.30311624]\n",
            " [-1.11556707]\n",
            " [-1.02115057]\n",
            " [-1.09017067]\n",
            " [-2.0042747 ]\n",
            " [-0.96686745]\n",
            " [-0.85514505]\n",
            " [-1.11676851]\n",
            " [-1.70042517]\n",
            " [-1.87504105]\n",
            " [-0.82696388]\n",
            " [ 0.3861362 ]\n",
            " [ 0.77936305]\n",
            " [-1.94999158]\n",
            " [-1.73077989]\n",
            " [-0.80224907]\n",
            " [-1.94999158]\n",
            " [-2.40144413]\n",
            " [-1.12052539]\n",
            " [-0.9504528 ]\n",
            " [-3.81734126]\n",
            " [-1.96144791]\n",
            " [-0.58945452]\n",
            " [ 0.08338327]\n",
            " [-2.09958245]\n",
            " [-0.1989076 ]\n",
            " [-1.8290581 ]\n",
            " [-0.3697666 ]\n",
            " [-1.42753108]\n",
            " [ 1.57824087]\n",
            " [ 1.30140421]\n",
            " [ 1.47481864]\n",
            " [-1.45256041]\n",
            " [ 0.50841935]\n",
            " [-0.05367865]\n",
            " [ 1.6379782 ]\n",
            " [-2.03235535]\n",
            " [ 0.61638487]\n",
            " [-0.6716326 ]\n",
            " [-2.78371486]\n",
            " [ 0.50962079]\n",
            " [-1.6817696 ]\n",
            " [ 0.50980648]\n",
            " [-0.25369093]\n",
            " [ 1.09722002]\n",
            " [ 0.49835016]\n",
            " [-0.63091816]\n",
            " [-0.98934135]\n",
            " [-1.16622213]\n",
            " [ 1.43549134]\n",
            " [-0.08027649]\n",
            " [-0.11746339]\n",
            " [ 0.13239356]\n",
            " [ 0.40074436]\n",
            " [ 0.83183968]\n",
            " [ 0.64910933]\n",
            " [ 1.36309624]\n",
            " [ 0.45988096]\n",
            " [-1.1460506 ]\n",
            " [-1.47322782]\n",
            " [-1.59356058]\n",
            " [-0.55675404]\n",
            " [ 0.34834426]\n",
            " [ 0.4075857 ]\n",
            " [ 1.63857892]\n",
            " [ 1.30080348]\n",
            " [-0.92300118]\n",
            " [ 0.17443394]\n",
            " [-1.01256419]\n",
            " [-0.70477209]\n",
            " [ 0.68817924]\n",
            " [-0.7351268 ]\n",
            " [-2.20697123]\n",
            " [-0.44393504]\n",
            " [ 0.18273411]\n",
            " [ 0.04144341]\n",
            " [ 0.3099799 ]\n",
            " [-1.76776143]\n",
            " [-0.22018005]\n",
            " [ 2.88747444]\n",
            " [ 0.49370203]\n",
            " [ 2.23408295]\n",
            " [ 1.29002873]\n",
            " [ 1.99887164]\n",
            " [ 2.75237155]\n",
            " [-0.76190117]\n",
            " [ 2.03522848]\n",
            " [ 0.67481591]\n",
            " [ 3.99753418]\n",
            " [ 1.99007558]\n",
            " [ 0.8492461 ]\n",
            " [ 1.93143486]\n",
            " [ 0.04540564]\n",
            " [ 1.10723718]\n",
            " [ 2.26406628]\n",
            " [ 1.55916595]\n",
            " [ 4.67807142]\n",
            " [ 2.20005221]\n",
            " [-0.87197905]\n",
            " [ 2.65747883]\n",
            " [ 0.61839239]\n",
            " [ 2.3206755 ]\n",
            " [ 0.55865506]\n",
            " [ 2.62929766]\n",
            " [ 2.52496452]\n",
            " [ 0.69164559]\n",
            " [ 1.12788493]\n",
            " [ 1.35153508]\n",
            " [ 1.84430279]\n",
            " [ 1.8560693 ]\n",
            " [ 4.486545  ]\n",
            " [ 1.43024249]\n",
            " [ 0.62578164]\n",
            " [ 0.22444031]\n",
            " [ 2.74704184]\n",
            " [ 2.86226374]\n",
            " [ 1.73378183]\n",
            " [ 1.04087735]\n",
            " [ 2.15518985]\n",
            " [ 2.38379832]\n",
            " [ 2.18772862]\n",
            " [ 0.49370203]\n",
            " [ 2.6953473 ]\n",
            " [ 2.9441273 ]\n",
            " [ 1.9185914 ]\n",
            " [ 0.2389916 ]\n",
            " [ 1.59170472]\n",
            " [ 2.6549234 ]\n",
            " [ 1.12037118]]\n"
          ]
        }
      ]
    },
    {
      "cell_type": "code",
      "source": [
        "z2_1.shape"
      ],
      "metadata": {
        "colab": {
          "base_uri": "https://localhost:8080/"
        },
        "id": "FvjZI3ER5CPC",
        "outputId": "80b6d5ac-d774-45bc-d650-a4fe665eae2d"
      },
      "execution_count": null,
      "outputs": [
        {
          "output_type": "execute_result",
          "data": {
            "text/plain": [
              "(150, 1)"
            ]
          },
          "metadata": {},
          "execution_count": 372
        }
      ]
    },
    {
      "cell_type": "markdown",
      "source": [
        "feetforward step 2"
      ],
      "metadata": {
        "id": "Dzf85OlBjEsg"
      }
    },
    {
      "cell_type": "code",
      "source": [
        "h2_1 = sigmoid(z2_1)\n",
        "h2_2 = sigmoid(z2_2)"
      ],
      "metadata": {
        "id": "6644KB475NJ1"
      },
      "execution_count": null,
      "outputs": []
    },
    {
      "cell_type": "code",
      "source": [
        "print(h2_1.shape)\n",
        "print(h2_2.shape)"
      ],
      "metadata": {
        "colab": {
          "base_uri": "https://localhost:8080/"
        },
        "id": "qv4LlUdR5kju",
        "outputId": "dfe0553d-c90e-426e-a2cf-18a44de4e516"
      },
      "execution_count": null,
      "outputs": [
        {
          "output_type": "stream",
          "name": "stdout",
          "text": [
            "(150, 1)\n",
            "(150, 1)\n"
          ]
        }
      ]
    },
    {
      "cell_type": "markdown",
      "source": [
        "each output neuron gets input from both hidden"
      ],
      "metadata": {
        "id": "qkKJRmy2jI0j"
      }
    },
    {
      "cell_type": "code",
      "source": [
        "h2 = np.append(h2_1, h2_2, axis=1)"
      ],
      "metadata": {
        "id": "675a9Y5h5rdo"
      },
      "execution_count": null,
      "outputs": []
    },
    {
      "cell_type": "code",
      "source": [
        "h2"
      ],
      "metadata": {
        "colab": {
          "base_uri": "https://localhost:8080/"
        },
        "id": "UOom90VE6Z7Q",
        "outputId": "0bd70528-4663-45de-967a-b6b14d870440"
      },
      "execution_count": null,
      "outputs": [
        {
          "output_type": "execute_result",
          "data": {
            "text/plain": [
              "array([[0.28046573, 0.2807846 ],\n",
              "       [0.10593928, 0.10608898],\n",
              "       [0.13879898, 0.1389879 ],\n",
              "       [0.11842493, 0.11858994],\n",
              "       [0.3170122 , 0.31735429],\n",
              "       [0.58813899, 0.58852155],\n",
              "       [0.21242753, 0.21269191],\n",
              "       [0.2375955 , 0.23788174],\n",
              "       [0.07044872, 0.07055223],\n",
              "       [0.12455428, 0.12472661],\n",
              "       [0.41960762, 0.41999234],\n",
              "       [0.22880931, 0.22908815],\n",
              "       [0.0947476 , 0.09488317],\n",
              "       [0.0685752 , 0.06867616],\n",
              "       [0.59682731, 0.59720733],\n",
              "       [0.81893726, 0.81917136],\n",
              "       [0.54730211, 0.54769343],\n",
              "       [0.29662004, 0.2969497 ],\n",
              "       [0.54827875, 0.54866992],\n",
              "       [0.45963167, 0.46002401],\n",
              "       [0.28881875, 0.2891433 ],\n",
              "       [0.42479587, 0.42518187],\n",
              "       [0.24683447, 0.24712824],\n",
              "       [0.26480334, 0.26511097],\n",
              "       [0.25158614, 0.25188367],\n",
              "       [0.11875484, 0.11892024],\n",
              "       [0.27550533, 0.27582072],\n",
              "       [0.29835468, 0.29868545],\n",
              "       [0.24661118, 0.24690477],\n",
              "       [0.15440974, 0.15461609],\n",
              "       [0.13295951, 0.1331417 ],\n",
              "       [0.30428742, 0.30462191],\n",
              "       [0.59535222, 0.59573269],\n",
              "       [0.68554282, 0.68588323],\n",
              "       [0.12455428, 0.12472661],\n",
              "       [0.15048785, 0.15068989],\n",
              "       [0.30954463, 0.30988232],\n",
              "       [0.12455428, 0.12472661],\n",
              "       [0.08306264, 0.08318302],\n",
              "       [0.24591384, 0.24620687],\n",
              "       [0.27879377, 0.27911148],\n",
              "       [0.02151319, 0.02154646],\n",
              "       [0.12331044, 0.12348129],\n",
              "       [0.35676002, 0.35712258],\n",
              "       [0.52083375, 0.52122794],\n",
              "       [0.10913741, 0.10929108],\n",
              "       [0.4504364 , 0.45082744],\n",
              "       [0.13835052, 0.13853892],\n",
              "       [0.40859742, 0.40897916],\n",
              "       [0.19348366, 0.19373027],\n",
              "       [0.82895524, 0.82917908],\n",
              "       [0.78607121, 0.78633671],\n",
              "       [0.81378869, 0.81402793],\n",
              "       [0.18960783, 0.18985066],\n",
              "       [0.62443586, 0.62480621],\n",
              "       [0.48658356, 0.48697817],\n",
              "       [0.83725964, 0.83747475],\n",
              "       [0.11584745, 0.11600934],\n",
              "       [0.6493959 , 0.64975544],\n",
              "       [0.33813137, 0.33848496],\n",
              "       [0.05821056, 0.05829722],\n",
              "       [0.62471757, 0.62508782],\n",
              "       [0.15686129, 0.1570703 ],\n",
              "       [0.62476111, 0.62513134],\n",
              "       [0.43691525, 0.43730388],\n",
              "       [0.74973886, 0.75003511],\n",
              "       [0.62207153, 0.62244281],\n",
              "       [0.34730238, 0.34766052],\n",
              "       [0.27104219, 0.27135439],\n",
              "       [0.23753853, 0.23782473],\n",
              "       [0.80775549, 0.80800065],\n",
              "       [0.47994165, 0.48033591],\n",
              "       [0.47066787, 0.47106142],\n",
              "       [0.53305013, 0.53344327],\n",
              "       [0.59886649, 0.59924587],\n",
              "       [0.69674378, 0.69707742],\n",
              "       [0.65680972, 0.65716568],\n",
              "       [0.79626246, 0.79651858],\n",
              "       [0.61298594, 0.61336059],\n",
              "       [0.2412112 , 0.24150041],\n",
              "       [0.1864525 , 0.18669221],\n",
              "       [0.16888354, 0.16910536],\n",
              "       [0.36429884, 0.36466472],\n",
              "       [0.58621601, 0.5865991 ],\n",
              "       [0.60050883, 0.6008877 ],\n",
              "       [0.83734148, 0.8375565 ],\n",
              "       [0.78597018, 0.78623577],\n",
              "       [0.28434678, 0.28466832],\n",
              "       [0.54349825, 0.54389012],\n",
              "       [0.26647833, 0.2667872 ],\n",
              "       [0.33075505, 0.33110478],\n",
              "       [0.66556177, 0.66591327],\n",
              "       [0.3240707 , 0.32441679],\n",
              "       [0.09912621, 0.09926736],\n",
              "       [0.39080373, 0.39117984],\n",
              "       [0.54555683, 0.54594841],\n",
              "       [0.51035937, 0.51075408],\n",
              "       [0.57688036, 0.57726586],\n",
              "       [0.14582094, 0.14601779],\n",
              "       [0.44517629, 0.44556646],\n",
              "       [0.94722377, 0.94730268],\n",
              "       [0.62097815, 0.62134984],\n",
              "       [0.90326869, 0.90340662],\n",
              "       [0.78415205, 0.78441928],\n",
              "       [0.88067856, 0.88084444],\n",
              "       [0.94004715, 0.94013611],\n",
              "       [0.31823364, 0.31857644],\n",
              "       [0.88444651, 0.88460784],\n",
              "       [0.66258068, 0.66293373],\n",
              "       [0.98197019, 0.98199813],\n",
              "       [0.87975113, 0.87991813],\n",
              "       [0.70040897, 0.70074031],\n",
              "       [0.87340815, 0.87358269],\n",
              "       [0.51134946, 0.51174413],\n",
              "       [0.75161368, 0.75190845],\n",
              "       [0.90585698, 0.90599159],\n",
              "       [0.82623364, 0.8264603 ],\n",
              "       [0.99078871, 0.99080311],\n",
              "       [0.9002542 , 0.90039595],\n",
              "       [0.29484267, 0.29517118],\n",
              "       [0.93447045, 0.93456711],\n",
              "       [0.64985283, 0.65021216],\n",
              "       [0.91057496, 0.9107035 ],\n",
              "       [0.63614129, 0.63650682],\n",
              "       [0.93272349, 0.93282254],\n",
              "       [0.9258735 , 0.92598183],\n",
              "       [0.6663329 , 0.66668399],\n",
              "       [0.75544836, 0.75574006],\n",
              "       [0.79438048, 0.79463836],\n",
              "       [0.8634568 , 0.86364292],\n",
              "       [0.86483814, 0.86502267],\n",
              "       [0.98886589, 0.98888326],\n",
              "       [0.8069391 , 0.80718505],\n",
              "       [0.65153235, 0.65189088],\n",
              "       [0.55587572, 0.55626564],\n",
              "       [0.93974607, 0.93983544],\n",
              "       [0.94594916, 0.94602986],\n",
              "       [0.84989552, 0.85009691],\n",
              "       [0.73901926, 0.73932379],\n",
              "       [0.89615275, 0.89629966],\n",
              "       [0.91558347, 0.91570548],\n",
              "       [0.89914211, 0.89928526],\n",
              "       [0.62097815, 0.62134984],\n",
              "       [0.93675154, 0.93684506],\n",
              "       [0.94998519, 0.95006019],\n",
              "       [0.87198127, 0.87215749],\n",
              "       [0.55946513, 0.55985439],\n",
              "       [0.83085581, 0.83107767],\n",
              "       [0.93431379, 0.93441067],\n",
              "       [0.75405756, 0.75435038]])"
            ]
          },
          "metadata": {},
          "execution_count": 376
        }
      ]
    },
    {
      "cell_type": "markdown",
      "source": [
        "feetforward step 3 - input from hidden layer to output"
      ],
      "metadata": {
        "id": "5JMT8NMIjL9O"
      }
    },
    {
      "cell_type": "code",
      "source": [
        "z3_1 = np.dot(h2, w_h_o1)\n",
        "z3_2 = np.dot(h2, w_h_o2)\n",
        "z3_3 = np.dot(h2, w_h_o3)"
      ],
      "metadata": {
        "id": "f8sZGrhg6a6I"
      },
      "execution_count": null,
      "outputs": []
    },
    {
      "cell_type": "markdown",
      "source": [
        "generating outputs"
      ],
      "metadata": {
        "id": "wKiGu1kqjPak"
      }
    },
    {
      "cell_type": "code",
      "source": [
        "o1 = sigmoid(z3_1)\n",
        "o2 = sigmoid(z3_2)\n",
        "o3 = sigmoid(z3_3)"
      ],
      "metadata": {
        "id": "Yg7Ocz6E6wi3"
      },
      "execution_count": null,
      "outputs": []
    },
    {
      "cell_type": "code",
      "source": [
        "o1.shape"
      ],
      "metadata": {
        "colab": {
          "base_uri": "https://localhost:8080/"
        },
        "id": "_m1WsDV_7coB",
        "outputId": "e2b07996-7db5-47b1-97ef-e9672fdb0eb4"
      },
      "execution_count": null,
      "outputs": [
        {
          "output_type": "execute_result",
          "data": {
            "text/plain": [
              "(150, 1)"
            ]
          },
          "metadata": {},
          "execution_count": 379
        }
      ]
    },
    {
      "cell_type": "code",
      "source": [
        "o1"
      ],
      "metadata": {
        "colab": {
          "base_uri": "https://localhost:8080/"
        },
        "id": "yepDmaFq7lIB",
        "outputId": "bdd93132-6f5a-4315-f8fd-2b254675b362"
      },
      "execution_count": null,
      "outputs": [
        {
          "output_type": "execute_result",
          "data": {
            "text/plain": [
              "array([[0.59083252],\n",
              "       [0.53464449],\n",
              "       [0.54533705],\n",
              "       [0.53871169],\n",
              "       [0.60235101],\n",
              "       [0.68357609],\n",
              "       [0.5691281 ],\n",
              "       [0.57719272],\n",
              "       [0.5230596 ],\n",
              "       [0.54070644],\n",
              "       [0.63404684],\n",
              "       [0.57438183],\n",
              "       [0.5309948 ],\n",
              "       [0.52244722],\n",
              "       [0.68603088],\n",
              "       [0.74503563],\n",
              "       [0.67190157],\n",
              "       [0.59593713],\n",
              "       [0.67218336],\n",
              "       [0.64611874],\n",
              "       [0.59347453],\n",
              "       [0.63562166],\n",
              "       [0.58014305],\n",
              "       [0.58586444],\n",
              "       [0.58165819],\n",
              "       [0.53881909],\n",
              "       [0.58926106],\n",
              "       [0.59648404],\n",
              "       [0.58007181],\n",
              "       [0.55040258],\n",
              "       [0.54343969],\n",
              "       [0.59835273],\n",
              "       [0.68561484],\n",
              "       [0.71048592],\n",
              "       [0.54070644],\n",
              "       [0.54913092],\n",
              "       [0.60000624],\n",
              "       [0.54070644],\n",
              "       [0.52718063],\n",
              "       [0.57984931],\n",
              "       [0.59030305],\n",
              "       [0.50704662],\n",
              "       [0.54030175],\n",
              "       [0.61474984],\n",
              "       [0.66421798],\n",
              "       [0.53568675],\n",
              "       [0.64336116],\n",
              "       [0.54519138],\n",
              "       [0.63069534],\n",
              "       [0.56303311],\n",
              "       [0.74751762],\n",
              "       [0.73678068],\n",
              "       [0.74375382],\n",
              "       [0.56178367],\n",
              "       [0.6937619 ],\n",
              "       [0.65414481],\n",
              "       [0.74956286],\n",
              "       [0.53787249],\n",
              "       [0.70065852],\n",
              "       [0.60895644],\n",
              "       [0.51905824],\n",
              "       [0.69384024],\n",
              "       [0.55119715],\n",
              "       [0.69385234],\n",
              "       [0.63928892],\n",
              "       [0.72745702],\n",
              "       [0.69310402],\n",
              "       [0.61181254],\n",
              "       [0.58784556],\n",
              "       [0.57717451],\n",
              "       [0.74224638],\n",
              "       [0.65217486],\n",
              "       [0.64941555],\n",
              "       [0.66777548],\n",
              "       [0.68660552],\n",
              "       [0.71349196],\n",
              "       [0.70268973],\n",
              "       [0.73935874],\n",
              "       [0.69056859],\n",
              "       [0.57834801],\n",
              "       [0.56076591],\n",
              "       [0.55508977],\n",
              "       [0.6170852 ],\n",
              "       [0.68303137],\n",
              "       [0.68706792],\n",
              "       [0.74958296],\n",
              "       [0.73675504],\n",
              "       [0.59206074],\n",
              "       [0.67080289],\n",
              "       [0.5863966 ],\n",
              "       [0.60665378],\n",
              "       [0.70507729],\n",
              "       [0.604563  ],\n",
              "       [0.53242313],\n",
              "       [0.62525217],\n",
              "       [0.67139771],\n",
              "       [0.66115278],\n",
              "       [0.68037976],\n",
              "       [0.54761685],\n",
              "       [0.64177938],\n",
              "       [0.77559003],\n",
              "       [0.69279951],\n",
              "       [0.7654232 ],\n",
              "       [0.73629336],\n",
              "       [0.76007503],\n",
              "       [0.77395175],\n",
              "       [0.60273409],\n",
              "       [0.76097287],\n",
              "       [0.7042653 ],\n",
              "       [0.78340202],\n",
              "       [0.75985369],\n",
              "       [0.71447152],\n",
              "       [0.75833609],\n",
              "       [0.66144311],\n",
              "       [0.72794317],\n",
              "       [0.76603065],\n",
              "       [0.74684492],\n",
              "       [0.785353  ],\n",
              "       [0.76471434],\n",
              "       [0.5953765 ],\n",
              "       [0.77267285],\n",
              "       [0.70078394],\n",
              "       [0.7671351 ],\n",
              "       [0.69700729],\n",
              "       [0.77227117],\n",
              "       [0.77069131],\n",
              "       [0.70528711],\n",
              "       [0.72893584],\n",
              "       [0.7388839 ],\n",
              "       [0.75594199],\n",
              "       [0.75627527],\n",
              "       [0.78492869],\n",
              "       [0.74204195],\n",
              "       [0.70124467],\n",
              "       [0.674371  ],\n",
              "       [0.77388283],\n",
              "       [0.77529968],\n",
              "       [0.75265359],\n",
              "       [0.7246669 ],\n",
              "       [0.7637475 ],\n",
              "       [0.76830357],\n",
              "       [0.76445246],\n",
              "       [0.69279951],\n",
              "       [0.77319659],\n",
              "       [0.77621815],\n",
              "       [0.7579938 ],\n",
              "       [0.67540197],\n",
              "       [0.74798668],\n",
              "       [0.77263685],\n",
              "       [0.72857607]])"
            ]
          },
          "metadata": {},
          "execution_count": 380
        }
      ]
    },
    {
      "cell_type": "markdown",
      "source": [
        "### **Task 2: Compute the total squared error.**"
      ],
      "metadata": {
        "id": "9ss8aku2iDFO"
      }
    },
    {
      "cell_type": "code",
      "source": [
        "y_pred = np.concatenate((o1,o2,o3), axis=1)"
      ],
      "metadata": {
        "id": "Kx4KMZMI7z18"
      },
      "execution_count": null,
      "outputs": []
    },
    {
      "cell_type": "code",
      "source": [
        "y_pred.shape"
      ],
      "metadata": {
        "colab": {
          "base_uri": "https://localhost:8080/"
        },
        "id": "TFfS7uxcvew4",
        "outputId": "95ff773e-8e8d-49fe-d49d-02fce930f003"
      },
      "execution_count": null,
      "outputs": [
        {
          "output_type": "execute_result",
          "data": {
            "text/plain": [
              "(150, 3)"
            ]
          },
          "metadata": {},
          "execution_count": 382
        }
      ]
    },
    {
      "cell_type": "code",
      "source": [
        "Species.shape"
      ],
      "metadata": {
        "colab": {
          "base_uri": "https://localhost:8080/"
        },
        "id": "dnzRZ3aMvhFx",
        "outputId": "c4b391f0-a22b-48e1-8ff0-77d468930ed2"
      },
      "execution_count": null,
      "outputs": [
        {
          "output_type": "execute_result",
          "data": {
            "text/plain": [
              "(150, 3)"
            ]
          },
          "metadata": {},
          "execution_count": 383
        }
      ]
    },
    {
      "cell_type": "code",
      "source": [
        "# for regression problems:\n",
        "def total_squared_error(y_true, y_pred):\n",
        "  tse = np.sum((y_true - y_pred) ** 2)\n",
        "  return tse"
      ],
      "metadata": {
        "id": "bLyKfk_agMTr"
      },
      "execution_count": null,
      "outputs": []
    },
    {
      "cell_type": "code",
      "source": [
        "# for classification:\n",
        "def categorical_cross_entropy_loss(y_true, y_pred):\n",
        "  loss = -np.sum(y_true * np.log(y_pred)) / len(y_true)\n",
        "  return loss"
      ],
      "metadata": {
        "id": "r_RjBfWEvr8l"
      },
      "execution_count": null,
      "outputs": []
    },
    {
      "cell_type": "code",
      "source": [
        "normalized_y_pred = y_pred / np.sum(y_pred, axis=1, keepdims=True)"
      ],
      "metadata": {
        "id": "s-N-SPwqg9xl"
      },
      "execution_count": null,
      "outputs": []
    },
    {
      "cell_type": "code",
      "source": [
        "print(categorical_cross_entropy_loss(Species,normalized_y_pred))"
      ],
      "metadata": {
        "colab": {
          "base_uri": "https://localhost:8080/"
        },
        "id": "N-1BjPCWwsnM",
        "outputId": "064d2d3f-cb98-42e6-ada6-35b090cf194a"
      },
      "execution_count": null,
      "outputs": [
        {
          "output_type": "stream",
          "name": "stdout",
          "text": [
            "Iris-setosa        0.359118\n",
            "Iris-versicolor    0.373159\n",
            "Iris-virginica     0.371374\n",
            "dtype: float64\n"
          ]
        }
      ]
    },
    {
      "cell_type": "markdown",
      "source": [
        "### **Task 3: Change the initial weights and biases and compute the error again.**"
      ],
      "metadata": {
        "id": "E_2_4aBwihDb"
      }
    },
    {
      "cell_type": "markdown",
      "source": [
        "new random values for weights and biases"
      ],
      "metadata": {
        "id": "irSo6Ti2xEGo"
      }
    },
    {
      "cell_type": "code",
      "source": [
        "np.random.seed(25)\n",
        "\n",
        "w_i_h1=np.random.rand(4,1)\n",
        "w_i_h2=np.random.rand(4,1)\n",
        "w_h_o1=np.random.rand(2,1)\n",
        "w_h_o2=np.random.rand(2,1)\n",
        "w_h_o3=np.random.rand(2,1)\n",
        "\n",
        "bias1=np.random.rand(1)\n",
        "bias2=np.random.rand(1)"
      ],
      "metadata": {
        "id": "l0RQqX6ciWyZ"
      },
      "execution_count": null,
      "outputs": []
    },
    {
      "cell_type": "code",
      "source": [
        "print(w_i_h1,\"\\n\")\n",
        "print(w_i_h2,\"\\n\")\n",
        "print(w_h_o1,\"\\n\")\n",
        "print(w_h_o2,\"\\n\")\n",
        "print(w_h_o3,\"\\n\")\n",
        "print(bias1,\"\\n\")\n",
        "print(bias2)"
      ],
      "metadata": {
        "colab": {
          "base_uri": "https://localhost:8080/"
        },
        "id": "B0T509f1xKz1",
        "outputId": "740ac745-8855-4f00-c9be-f2667728b62a"
      },
      "execution_count": null,
      "outputs": [
        {
          "output_type": "stream",
          "name": "stdout",
          "text": [
            "[[0.87012414]\n",
            " [0.58227693]\n",
            " [0.27883894]\n",
            " [0.18591123]] \n",
            "\n",
            "[[0.41110013]\n",
            " [0.11737555]\n",
            " [0.68496874]\n",
            " [0.43761106]] \n",
            "\n",
            "[[0.55622933]\n",
            " [0.36708032]] \n",
            "\n",
            "[[0.40236573]\n",
            " [0.1130407 ]] \n",
            "\n",
            "[[0.44703085]\n",
            " [0.58544512]] \n",
            "\n",
            "[0.1619851] \n",
            "\n",
            "[0.52071879]\n"
          ]
        }
      ]
    },
    {
      "cell_type": "code",
      "source": [
        "z2_1=np.dot(input,w_i_h1)+bias1\n",
        "z2_2=np.dot(input,w_i_h2)+bias2"
      ],
      "metadata": {
        "id": "jXY9TD7ZxTob"
      },
      "execution_count": null,
      "outputs": []
    },
    {
      "cell_type": "code",
      "source": [
        "h2_1=sigmoid(z2_1)\n",
        "h2_2=sigmoid(z2_2)"
      ],
      "metadata": {
        "id": "0wXrbHLTxs0V"
      },
      "execution_count": null,
      "outputs": []
    },
    {
      "cell_type": "code",
      "source": [
        "h2=np.append(h2_1,h2_2,axis=1)\n",
        "h2"
      ],
      "metadata": {
        "colab": {
          "base_uri": "https://localhost:8080/"
        },
        "id": "t7DBu4LZxu1l",
        "outputId": "ef69f90b-97b1-484f-ea86-df29f12d4be0"
      },
      "execution_count": null,
      "outputs": [
        {
          "output_type": "execute_result",
          "data": {
            "text/plain": [
              "array([[0.3455015 , 0.22763463],\n",
              "       [0.17895588, 0.18890432],\n",
              "       [0.18532551, 0.17633203],\n",
              "       [0.15588979, 0.17646704],\n",
              "       [0.35215894, 0.22367677],\n",
              "       [0.57757762, 0.32481881],\n",
              "       [0.21817626, 0.19148286],\n",
              "       [0.29667379, 0.22101903],\n",
              "       [0.10107529, 0.1501574 ],\n",
              "       [0.19824764, 0.19022218],\n",
              "       [0.49069071, 0.27308902],\n",
              "       [0.25765484, 0.21074995],\n",
              "       [0.16066197, 0.17300308],\n",
              "       [0.09726099, 0.12670566],\n",
              "       [0.67724413, 0.30679878],\n",
              "       [0.78093453, 0.37182992],\n",
              "       [0.56203168, 0.29162219],\n",
              "       [0.35104932, 0.23790825],\n",
              "       [0.61537132, 0.33917513],\n",
              "       [0.45156441, 0.26042756],\n",
              "       [0.39897194, 0.27237879],\n",
              "       [0.42442112, 0.26631997],\n",
              "       [0.2507319 , 0.16806264],\n",
              "       [0.31271485, 0.27158768],\n",
              "       [0.26685769, 0.23084302],\n",
              "       [0.20000011, 0.20925353],\n",
              "       [0.31035789, 0.24866994],\n",
              "       [0.37341715, 0.24361663],\n",
              "       [0.33890408, 0.23164162],\n",
              "       [0.19261523, 0.19395005],\n",
              "       [0.1880982 , 0.19751573],\n",
              "       [0.40309669, 0.27980657],\n",
              "       [0.56621295, 0.26356514],\n",
              "       [0.67393486, 0.30315051],\n",
              "       [0.19824764, 0.19022218],\n",
              "       [0.23500941, 0.19295637],\n",
              "       [0.44201104, 0.25703845],\n",
              "       [0.19824764, 0.19022218],\n",
              "       [0.11240079, 0.14865905],\n",
              "       [0.31913354, 0.2297142 ],\n",
              "       [0.32394132, 0.22219072],\n",
              "       [0.05316321, 0.13848405],\n",
              "       [0.14222053, 0.15566604],\n",
              "       [0.35096015, 0.27618009],\n",
              "       [0.47340412, 0.30355869],\n",
              "       [0.16736389, 0.19009031],\n",
              "       [0.44943897, 0.25686439],\n",
              "       [0.17218082, 0.17476014],\n",
              "       [0.46439224, 0.26331326],\n",
              "       [0.26623985, 0.20984663],\n",
              "       [0.85528451, 0.83466135],\n",
              "       [0.75709301, 0.78579948],\n",
              "       [0.83098831, 0.84257235],\n",
              "       [0.23995901, 0.57375943],\n",
              "       [0.67241597, 0.78243416],\n",
              "       [0.45287599, 0.67423269],\n",
              "       [0.77246314, 0.80417169],\n",
              "       [0.1376352 , 0.39657272],\n",
              "       [0.71308602, 0.7758795 ],\n",
              "       [0.28462199, 0.56831922],\n",
              "       [0.0964863 , 0.4011452 ],\n",
              "       [0.57263296, 0.70672951],\n",
              "       [0.30283874, 0.5857695 ],\n",
              "       [0.60433549, 0.7482382 ],\n",
              "       [0.42495745, 0.5876308 ],\n",
              "       [0.78211962, 0.79010843],\n",
              "       [0.50596911, 0.69993114],\n",
              "       [0.41214161, 0.60387467],\n",
              "       [0.39616726, 0.7167819 ],\n",
              "       [0.30095951, 0.56151705],\n",
              "       [0.67492553, 0.79252023],\n",
              "       [0.53827133, 0.67521863],\n",
              "       [0.53783197, 0.77129792],\n",
              "       [0.55969828, 0.72051324],\n",
              "       [0.65745839, 0.73601057],\n",
              "       [0.73844263, 0.77705846],\n",
              "       [0.73936991, 0.80995427],\n",
              "       [0.78781187, 0.84615117],\n",
              "       [0.57709549, 0.73478896],\n",
              "       [0.33393765, 0.52771044],\n",
              "       [0.24997212, 0.53280203],\n",
              "       [0.24249305, 0.50872701],\n",
              "       [0.41630821, 0.61272985],\n",
              "       [0.54015351, 0.77833275],\n",
              "       [0.45338957, 0.67860007],\n",
              "       [0.73282571, 0.77072274],\n",
              "       [0.79414155, 0.81756953],\n",
              "       [0.43880088, 0.70088343],\n",
              "       [0.47790627, 0.64016883],\n",
              "       [0.29246895, 0.58698816],\n",
              "       [0.3296653 , 0.61702984],\n",
              "       [0.63238149, 0.7460107 ],\n",
              "       [0.38773776, 0.61552382],\n",
              "       [0.1341932 , 0.40200568],\n",
              "       [0.38300852, 0.63031422],\n",
              "       [0.50210315, 0.64733066],\n",
              "       [0.47455059, 0.6542332 ],\n",
              "       [0.60852734, 0.71620436],\n",
              "       [0.18055443, 0.41282467],\n",
              "       [0.43721253, 0.63912929],\n",
              "       [0.83867274, 0.91958684],\n",
              "       [0.50585607, 0.79066765],\n",
              "       [0.8780387 , 0.92306035],\n",
              "       [0.70576459, 0.85440287],\n",
              "       [0.79412739, 0.90064244],\n",
              "       [0.93163862, 0.95286208],\n",
              "       [0.20768139, 0.61716867],\n",
              "       [0.88495435, 0.92692181],\n",
              "       [0.68769739, 0.87413954],\n",
              "       [0.95335153, 0.95282154],\n",
              "       [0.8114697 , 0.86657148],\n",
              "       [0.66546057, 0.8462816 ],\n",
              "       [0.83121576, 0.89838723],\n",
              "       [0.41510496, 0.77615582],\n",
              "       [0.56963877, 0.8380494 ],\n",
              "       [0.81140981, 0.88811912],\n",
              "       [0.76935061, 0.86499285],\n",
              "       [0.97887179, 0.96675299],\n",
              "       [0.90679029, 0.96005481],\n",
              "       [0.36515915, 0.73569001],\n",
              "       [0.88592517, 0.9224805 ],\n",
              "       [0.48501283, 0.77488843],\n",
              "       [0.91979028, 0.95181394],\n",
              "       [0.62114847, 0.80885366],\n",
              "       [0.87266959, 0.90796237],\n",
              "       [0.90816468, 0.92093773],\n",
              "       [0.62430911, 0.79914777],\n",
              "       [0.6654741 , 0.80603315],\n",
              "       [0.71482179, 0.87705284],\n",
              "       [0.8745004 , 0.90095348],\n",
              "       [0.88117738, 0.92707628],\n",
              "       [0.98111275, 0.96222791],\n",
              "       [0.71977812, 0.88312343],\n",
              "       [0.64280331, 0.79819324],\n",
              "       [0.54042367, 0.79548585],\n",
              "       [0.93626537, 0.95150187],\n",
              "       [0.84491444, 0.90469959],\n",
              "       [0.77451048, 0.86232571],\n",
              "       [0.6379547 , 0.79177767],\n",
              "       [0.86039607, 0.90180596],\n",
              "       [0.84719405, 0.91438053],\n",
              "       [0.86055401, 0.90164773],\n",
              "       [0.50585607, 0.79066765],\n",
              "       [0.87826047, 0.92446555],\n",
              "       [0.88314348, 0.92547286],\n",
              "       [0.81610117, 0.89357922],\n",
              "       [0.56592475, 0.81528774],\n",
              "       [0.76958396, 0.86478418],\n",
              "       [0.82254298, 0.88748651],\n",
              "       [0.62448666, 0.80261449]])"
            ]
          },
          "metadata": {},
          "execution_count": 392
        }
      ]
    },
    {
      "cell_type": "code",
      "source": [
        "z3_1=np.dot(h2,w_h_o1)\n",
        "z3_2=np.dot(h2,w_h_o2)\n",
        "z3_3=np.dot(h2,w_h_o3)"
      ],
      "metadata": {
        "id": "P1NRWcv9xwTt"
      },
      "execution_count": null,
      "outputs": []
    },
    {
      "cell_type": "code",
      "source": [
        "o1=sigmoid(z3_1)\n",
        "o2=sigmoid(z3_2)\n",
        "o3=sigmoid(z3_3)"
      ],
      "metadata": {
        "id": "N2H4qQKxx0lK"
      },
      "execution_count": null,
      "outputs": []
    },
    {
      "cell_type": "code",
      "source": [
        "y_pred = np.concatenate((o1,o2,o3), axis=1)"
      ],
      "metadata": {
        "id": "QRrPeGrTx2Ui"
      },
      "execution_count": null,
      "outputs": []
    },
    {
      "cell_type": "code",
      "source": [
        "normalized_y_pred = y_pred / np.sum(y_pred, axis=1, keepdims=True)"
      ],
      "metadata": {
        "id": "Dks-5A2Hx3pu"
      },
      "execution_count": null,
      "outputs": []
    },
    {
      "cell_type": "code",
      "source": [
        "print(categorical_cross_entropy_loss(Species,normalized_y_pred))"
      ],
      "metadata": {
        "colab": {
          "base_uri": "https://localhost:8080/"
        },
        "id": "mIBEV23Ux5k9",
        "outputId": "7b7fbece-512f-4466-ad40-aa91e1fb9751"
      },
      "execution_count": null,
      "outputs": [
        {
          "output_type": "stream",
          "name": "stdout",
          "text": [
            "Iris-setosa        0.361725\n",
            "Iris-versicolor    0.392083\n",
            "Iris-virginica     0.345960\n",
            "dtype: float64\n"
          ]
        }
      ]
    },
    {
      "cell_type": "markdown",
      "source": [
        "To have the values with gradient descent:"
      ],
      "metadata": {
        "id": "k5yNpvtHyC_t"
      }
    },
    {
      "cell_type": "code",
      "source": [
        "input_size = 4 # no. of features in the input\n",
        "hidden_size = 2 # no. of neurons in the hidden layer\n",
        "output_size = 3 # no. of classes for the output"
      ],
      "metadata": {
        "id": "i8ysW-Olx757"
      },
      "execution_count": null,
      "outputs": []
    },
    {
      "cell_type": "code",
      "source": [
        "w_1 = np.random.rand(input_size, hidden_size)\n",
        "b_1 = np.zeros((1, hidden_size))\n",
        "w_2 = np.random.rand(hidden_size, output_size)\n",
        "b_2 = np.zeros((1, output_size))"
      ],
      "metadata": {
        "id": "CXcFlpJryLzf"
      },
      "execution_count": null,
      "outputs": []
    },
    {
      "cell_type": "markdown",
      "source": [
        "forward pass function"
      ],
      "metadata": {
        "id": "X5wfBVU_yhf5"
      }
    },
    {
      "cell_type": "code",
      "source": [
        "def forward(X):\n",
        "  # input to hidden layer\n",
        "  h = X.dot(w_1) + b_1\n",
        "  a = 1 / (1 + np.exp(-h)) # sigmoid activation for hidden layer\n",
        "\n",
        "  # hidden layer to output\n",
        "  hat_y = a.dot(w_2) + b_2\n",
        "  y_hat = 1 / (1 + np.exp(-hat_y)) # sigmoid activation for output layer\n",
        "\n",
        "  return y_hat, a, h"
      ],
      "metadata": {
        "id": "gqdcLl34ySQP"
      },
      "execution_count": null,
      "outputs": []
    },
    {
      "cell_type": "markdown",
      "source": [
        "loss function"
      ],
      "metadata": {
        "id": "eowGzuJTyvw-"
      }
    },
    {
      "cell_type": "code",
      "source": [
        "def cross_entropy_loss(y_pred, y_true):\n",
        "  loss = -np.sum(y_true * np.log(y_pred) + (1 - y_true) * np.log(1 - y_pred)) / len(y_true)\n",
        "\n",
        "  return loss"
      ],
      "metadata": {
        "id": "g_Vc45yXyc5d"
      },
      "execution_count": null,
      "outputs": []
    },
    {
      "cell_type": "markdown",
      "source": [
        "backpropagation"
      ],
      "metadata": {
        "id": "eiVPIJvpy08s"
      }
    },
    {
      "cell_type": "code",
      "source": [
        "def backward(X, y_hat, y_true, a, h):\n",
        "  # to calculate gradients\n",
        "  delta = (y_hat - y_true) / len(y_true)\n",
        "  grad_w2 = a.T.dot(delta)\n",
        "  grad_b2 = np.sum(delta, axis=0, keepdims=True)\n",
        "  grad_a = delta.dot(w_2.T)\n",
        "  grad_h = grad_a * a * (1 - a) # gradient for sigmoid activation\n",
        "  grad_w1 = X.T.dot(grad_h)\n",
        "  grad_b1 = np.sum(grad_h, axis=0, keepdims=True)\n",
        "\n",
        "  return grad_w1, grad_b1, grad_w2, grad_b2"
      ],
      "metadata": {
        "id": "XhF6IJkWywu-"
      },
      "execution_count": null,
      "outputs": []
    },
    {
      "cell_type": "markdown",
      "source": [
        "training data and targets"
      ],
      "metadata": {
        "id": "Urx1d5hOzHE_"
      }
    },
    {
      "cell_type": "code",
      "source": [
        "x = np.random.rand(100, input_size) # 100 samples, 4 features"
      ],
      "metadata": {
        "id": "YLMC_dG3y_CE"
      },
      "execution_count": null,
      "outputs": []
    },
    {
      "cell_type": "code",
      "source": [
        "y_true = np.random.rand(100, output_size) # 100 samples, one hot encoded targets"
      ],
      "metadata": {
        "id": "0kcMtFdezJuI"
      },
      "execution_count": null,
      "outputs": []
    },
    {
      "cell_type": "markdown",
      "source": [
        "gradient descent"
      ],
      "metadata": {
        "id": "-eoomyNVzpK5"
      }
    },
    {
      "cell_type": "code",
      "source": [
        "learning_rate = 0.01\n",
        "for epoch in range(100):\n",
        "  # Forward pass\n",
        "  y_hat, a, h = forward(x)\n",
        "  # Calculate the loss\n",
        "  loss = cross_entropy_loss(y_hat, y_true)\n",
        "  # Backward pass\n",
        "  grad_w1, grad_b1, grad_w2, grad_b2 = backward(x, y_hat, y_true, a, h)\n",
        "  # Update the weights\n",
        "  w_1 -= learning_rate * grad_w1\n",
        "  b_1 -= learning_rate * grad_b1\n",
        "  w_2 -= learning_rate * grad_w2\n",
        "  b_2 -= learning_rate * grad_b2\n",
        "  # Print the loss every few epochs\n",
        "  if epoch % 10 == 0:\n",
        "    print(f'Epoch {epoch}, Loss: {loss}')"
      ],
      "metadata": {
        "colab": {
          "base_uri": "https://localhost:8080/"
        },
        "id": "h8YfPPd_za7e",
        "outputId": "10308337-9cfd-426e-ec30-639024ed8b08"
      },
      "execution_count": null,
      "outputs": [
        {
          "output_type": "stream",
          "name": "stdout",
          "text": [
            "Epoch 0, Loss: 2.2182918231375877\n",
            "Epoch 10, Loss: 2.204100811083034\n",
            "Epoch 20, Loss: 2.1912171810740233\n",
            "Epoch 30, Loss: 2.1795307570138376\n",
            "Epoch 40, Loss: 2.1689387598158802\n",
            "Epoch 50, Loss: 2.1593456592889115\n",
            "Epoch 60, Loss: 2.1506629558324932\n",
            "Epoch 70, Loss: 2.142808908199113\n",
            "Epoch 80, Loss: 2.135708221751922\n",
            "Epoch 90, Loss: 2.1292917097418673\n"
          ]
        }
      ]
    },
    {
      "cell_type": "code",
      "source": [],
      "metadata": {
        "id": "XKH7gLTAzyAe"
      },
      "execution_count": null,
      "outputs": []
    }
  ]
}